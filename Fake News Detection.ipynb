{
 "cells": [
  {
   "cell_type": "code",
   "execution_count": 1,
   "id": "f69aae3c",
   "metadata": {
    "scrolled": false
   },
   "outputs": [
    {
     "name": "stdout",
     "output_type": "stream",
     "text": [
      "Num GPUs Available:  1\n"
     ]
    }
   ],
   "source": [
    "import pandas as pd\n",
    "import re\n",
    "import nltk\n",
    "import numpy as np\n",
    "import matplotlib.pyplot as plt\n",
    "import tensorflow as tf\n",
    "print(\"Num GPUs Available: \", len(tf.config.experimental.list_physical_devices('GPU')))\n",
    "\n",
    "\n",
    "from nltk.corpus import stopwords\n",
    "from sklearn.feature_extraction.text import TfidfVectorizer\n",
    "from sklearn.model_selection import train_test_split \n",
    "from sklearn.preprocessing import StandardScaler\n",
    "from scipy.sparse import hstack\n",
    "from sklearn.utils import class_weight\n",
    "from sklearn.ensemble import RandomForestClassifier\n",
    "from sklearn.ensemble import GradientBoostingClassifier\n",
    "from sklearn.metrics import classification_report \n",
    "from sklearn import metrics\n",
    "from sklearn.metrics import precision_score, recall_score, f1_score\n",
    "\n",
    "from tensorflow import keras\n",
    "from tensorflow.keras import layers\n",
    "from tensorflow.keras.models import Sequential\n",
    "from tensorflow.keras.layers import Embedding, LSTM, Dense, Dropout\n",
    "from tensorflow.keras.callbacks import EarlyStopping\n",
    "from tensorflow.keras.regularizers import l2\n",
    "from tensorflow.keras.optimizers import RMSprop"
   ]
  },
  {
   "cell_type": "markdown",
   "id": "b3533554",
   "metadata": {},
   "source": [
    "# Supervised Fake News Detection"
   ]
  },
  {
   "cell_type": "markdown",
   "id": "e5118066",
   "metadata": {},
   "source": [
    "## Data Processing"
   ]
  },
  {
   "cell_type": "markdown",
   "id": "b3687bb3",
   "metadata": {},
   "source": [
    "In this portion of the project contains the preprocessing of the LIAR dataset downloaded from \"https://huggingface.co/datasets/liar/tree/main\". The dataset is already split into three files, \"test\", \"train\" and \"valid\"."
   ]
  },
  {
   "cell_type": "code",
   "execution_count": 2,
   "id": "a22d53a1",
   "metadata": {},
   "outputs": [],
   "source": [
    "def read_df(tsv_file: str) -> pd.DataFrame:\n",
    "    \n",
    "    #create dataframe\n",
    "    df = pd.read_csv(tsv_file, delimiter='\\t', dtype=object)\n",
    "    \n",
    "    #replace NaN/Null with empty string\n",
    "    df.fillna(\"\", inplace=True)\n",
    "    \n",
    "    #assign labels to columns as described in README\n",
    "    df.columns = [\n",
    "        'id',                # Column 1: the ID of the statement ([ID].json).\n",
    "        'label',             # Column 2: the label.\n",
    "        'statement',         # Column 3: the statement.\n",
    "        'subjects',          # Column 4: the subject(s).\n",
    "        'speaker',           # Column 5: the speaker.\n",
    "        'speaker_job_title', # Column 6: the speaker's job title.\n",
    "        'state_info',        # Column 7: the state info.\n",
    "        'party_affiliation', # Column 8: the party affiliation.\n",
    "        \n",
    "        # Column 9-13: the total credit history count, including the current statement.\n",
    "        'count_1', # barely true counts.\n",
    "        'count_2', # false counts.\n",
    "        'count_3', # half true counts.\n",
    "        'count_4', # mostly true counts.\n",
    "        'count_5', # pants on fire counts.\n",
    "        \n",
    "        'context' # Column 14: the context (venue / location of the speech or statement).\n",
    "    ]\n",
    "    \n",
    "    return df   "
   ]
  },
  {
   "cell_type": "code",
   "execution_count": 3,
   "id": "d546a9a2",
   "metadata": {},
   "outputs": [],
   "source": [
    "#convert all tsv files to dataframes\n",
    "liar_train = read_df('./datasets/train.tsv') #training set\n",
    "liar_test = read_df('./datasets/test.tsv') #test set\n",
    "liar_valid = read_df('./datasets/valid.tsv') #validation set"
   ]
  },
  {
   "cell_type": "code",
   "execution_count": 4,
   "id": "98c84fcd",
   "metadata": {},
   "outputs": [],
   "source": [
    "LIAR = pd.concat([liar_train, liar_test], axis=0)"
   ]
  },
  {
   "cell_type": "code",
   "execution_count": 5,
   "id": "139eb968",
   "metadata": {},
   "outputs": [],
   "source": [
    "LIAR = pd.concat([LIAR,liar_valid], axis=0)"
   ]
  },
  {
   "cell_type": "code",
   "execution_count": 6,
   "id": "f741ca17",
   "metadata": {},
   "outputs": [
    {
     "data": {
      "text/html": [
       "<div>\n",
       "<style scoped>\n",
       "    .dataframe tbody tr th:only-of-type {\n",
       "        vertical-align: middle;\n",
       "    }\n",
       "\n",
       "    .dataframe tbody tr th {\n",
       "        vertical-align: top;\n",
       "    }\n",
       "\n",
       "    .dataframe thead th {\n",
       "        text-align: right;\n",
       "    }\n",
       "</style>\n",
       "<table border=\"1\" class=\"dataframe\">\n",
       "  <thead>\n",
       "    <tr style=\"text-align: right;\">\n",
       "      <th></th>\n",
       "      <th>id</th>\n",
       "      <th>label</th>\n",
       "      <th>statement</th>\n",
       "      <th>subjects</th>\n",
       "      <th>speaker</th>\n",
       "      <th>speaker_job_title</th>\n",
       "      <th>state_info</th>\n",
       "      <th>party_affiliation</th>\n",
       "      <th>count_1</th>\n",
       "      <th>count_2</th>\n",
       "      <th>count_3</th>\n",
       "      <th>count_4</th>\n",
       "      <th>count_5</th>\n",
       "      <th>context</th>\n",
       "    </tr>\n",
       "  </thead>\n",
       "  <tbody>\n",
       "    <tr>\n",
       "      <th>0</th>\n",
       "      <td>10540.json</td>\n",
       "      <td>half-true</td>\n",
       "      <td>When did the decline of coal start? It started...</td>\n",
       "      <td>energy,history,job-accomplishments</td>\n",
       "      <td>scott-surovell</td>\n",
       "      <td>State delegate</td>\n",
       "      <td>Virginia</td>\n",
       "      <td>democrat</td>\n",
       "      <td>0</td>\n",
       "      <td>0</td>\n",
       "      <td>1</td>\n",
       "      <td>1</td>\n",
       "      <td>0</td>\n",
       "      <td>a floor speech.</td>\n",
       "    </tr>\n",
       "    <tr>\n",
       "      <th>1</th>\n",
       "      <td>324.json</td>\n",
       "      <td>mostly-true</td>\n",
       "      <td>Hillary Clinton agrees with John McCain \"by vo...</td>\n",
       "      <td>foreign-policy</td>\n",
       "      <td>barack-obama</td>\n",
       "      <td>President</td>\n",
       "      <td>Illinois</td>\n",
       "      <td>democrat</td>\n",
       "      <td>70</td>\n",
       "      <td>71</td>\n",
       "      <td>160</td>\n",
       "      <td>163</td>\n",
       "      <td>9</td>\n",
       "      <td>Denver</td>\n",
       "    </tr>\n",
       "    <tr>\n",
       "      <th>2</th>\n",
       "      <td>1123.json</td>\n",
       "      <td>false</td>\n",
       "      <td>Health care reform legislation is likely to ma...</td>\n",
       "      <td>health-care</td>\n",
       "      <td>blog-posting</td>\n",
       "      <td></td>\n",
       "      <td></td>\n",
       "      <td>none</td>\n",
       "      <td>7</td>\n",
       "      <td>19</td>\n",
       "      <td>3</td>\n",
       "      <td>5</td>\n",
       "      <td>44</td>\n",
       "      <td>a news release</td>\n",
       "    </tr>\n",
       "    <tr>\n",
       "      <th>3</th>\n",
       "      <td>9028.json</td>\n",
       "      <td>half-true</td>\n",
       "      <td>The economic turnaround started at the end of ...</td>\n",
       "      <td>economy,jobs</td>\n",
       "      <td>charlie-crist</td>\n",
       "      <td></td>\n",
       "      <td>Florida</td>\n",
       "      <td>democrat</td>\n",
       "      <td>15</td>\n",
       "      <td>9</td>\n",
       "      <td>20</td>\n",
       "      <td>19</td>\n",
       "      <td>2</td>\n",
       "      <td>an interview on CNN</td>\n",
       "    </tr>\n",
       "    <tr>\n",
       "      <th>4</th>\n",
       "      <td>12465.json</td>\n",
       "      <td>true</td>\n",
       "      <td>The Chicago Bears have had more starting quart...</td>\n",
       "      <td>education</td>\n",
       "      <td>robin-vos</td>\n",
       "      <td>Wisconsin Assembly speaker</td>\n",
       "      <td>Wisconsin</td>\n",
       "      <td>republican</td>\n",
       "      <td>0</td>\n",
       "      <td>3</td>\n",
       "      <td>2</td>\n",
       "      <td>5</td>\n",
       "      <td>1</td>\n",
       "      <td>a an online opinion-piece</td>\n",
       "    </tr>\n",
       "    <tr>\n",
       "      <th>5</th>\n",
       "      <td>2342.json</td>\n",
       "      <td>barely-true</td>\n",
       "      <td>Jim Dunnam has not lived in the district he re...</td>\n",
       "      <td>candidates-biography</td>\n",
       "      <td>republican-party-texas</td>\n",
       "      <td></td>\n",
       "      <td>Texas</td>\n",
       "      <td>republican</td>\n",
       "      <td>3</td>\n",
       "      <td>1</td>\n",
       "      <td>1</td>\n",
       "      <td>3</td>\n",
       "      <td>1</td>\n",
       "      <td>a press release.</td>\n",
       "    </tr>\n",
       "    <tr>\n",
       "      <th>6</th>\n",
       "      <td>153.json</td>\n",
       "      <td>half-true</td>\n",
       "      <td>I'm the only person on this stage who has work...</td>\n",
       "      <td>ethics</td>\n",
       "      <td>barack-obama</td>\n",
       "      <td>President</td>\n",
       "      <td>Illinois</td>\n",
       "      <td>democrat</td>\n",
       "      <td>70</td>\n",
       "      <td>71</td>\n",
       "      <td>160</td>\n",
       "      <td>163</td>\n",
       "      <td>9</td>\n",
       "      <td>a Democratic debate in Philadelphia, Pa.</td>\n",
       "    </tr>\n",
       "    <tr>\n",
       "      <th>7</th>\n",
       "      <td>5602.json</td>\n",
       "      <td>half-true</td>\n",
       "      <td>However, it took $19.5 million in Oregon Lotte...</td>\n",
       "      <td>jobs</td>\n",
       "      <td>oregon-lottery</td>\n",
       "      <td></td>\n",
       "      <td></td>\n",
       "      <td>organization</td>\n",
       "      <td>0</td>\n",
       "      <td>0</td>\n",
       "      <td>1</td>\n",
       "      <td>0</td>\n",
       "      <td>1</td>\n",
       "      <td>a website</td>\n",
       "    </tr>\n",
       "    <tr>\n",
       "      <th>8</th>\n",
       "      <td>9741.json</td>\n",
       "      <td>mostly-true</td>\n",
       "      <td>Says GOP primary opponents Glenn Grothman and ...</td>\n",
       "      <td>energy,message-machine-2014,voting-record</td>\n",
       "      <td>duey-stroebel</td>\n",
       "      <td>State representative</td>\n",
       "      <td>Wisconsin</td>\n",
       "      <td>republican</td>\n",
       "      <td>0</td>\n",
       "      <td>0</td>\n",
       "      <td>0</td>\n",
       "      <td>1</td>\n",
       "      <td>0</td>\n",
       "      <td>an online video</td>\n",
       "    </tr>\n",
       "    <tr>\n",
       "      <th>9</th>\n",
       "      <td>7115.json</td>\n",
       "      <td>mostly-true</td>\n",
       "      <td>For the first time in history, the share of th...</td>\n",
       "      <td>elections</td>\n",
       "      <td>robert-menendez</td>\n",
       "      <td>U.S. Senator</td>\n",
       "      <td>New Jersey</td>\n",
       "      <td>democrat</td>\n",
       "      <td>1</td>\n",
       "      <td>3</td>\n",
       "      <td>1</td>\n",
       "      <td>3</td>\n",
       "      <td>0</td>\n",
       "      <td>a speech</td>\n",
       "    </tr>\n",
       "  </tbody>\n",
       "</table>\n",
       "</div>"
      ],
      "text/plain": [
       "           id        label                                          statement  \\\n",
       "0  10540.json    half-true  When did the decline of coal start? It started...   \n",
       "1    324.json  mostly-true  Hillary Clinton agrees with John McCain \"by vo...   \n",
       "2   1123.json        false  Health care reform legislation is likely to ma...   \n",
       "3   9028.json    half-true  The economic turnaround started at the end of ...   \n",
       "4  12465.json         true  The Chicago Bears have had more starting quart...   \n",
       "5   2342.json  barely-true  Jim Dunnam has not lived in the district he re...   \n",
       "6    153.json    half-true  I'm the only person on this stage who has work...   \n",
       "7   5602.json    half-true  However, it took $19.5 million in Oregon Lotte...   \n",
       "8   9741.json  mostly-true  Says GOP primary opponents Glenn Grothman and ...   \n",
       "9   7115.json  mostly-true  For the first time in history, the share of th...   \n",
       "\n",
       "                                    subjects                 speaker  \\\n",
       "0         energy,history,job-accomplishments          scott-surovell   \n",
       "1                             foreign-policy            barack-obama   \n",
       "2                                health-care            blog-posting   \n",
       "3                               economy,jobs           charlie-crist   \n",
       "4                                  education               robin-vos   \n",
       "5                       candidates-biography  republican-party-texas   \n",
       "6                                     ethics            barack-obama   \n",
       "7                                       jobs          oregon-lottery   \n",
       "8  energy,message-machine-2014,voting-record           duey-stroebel   \n",
       "9                                  elections         robert-menendez   \n",
       "\n",
       "            speaker_job_title  state_info party_affiliation count_1 count_2  \\\n",
       "0              State delegate    Virginia          democrat       0       0   \n",
       "1                   President    Illinois          democrat      70      71   \n",
       "2                                                      none       7      19   \n",
       "3                                 Florida          democrat      15       9   \n",
       "4  Wisconsin Assembly speaker   Wisconsin        republican       0       3   \n",
       "5                                   Texas        republican       3       1   \n",
       "6                   President    Illinois          democrat      70      71   \n",
       "7                                              organization       0       0   \n",
       "8        State representative   Wisconsin        republican       0       0   \n",
       "9                U.S. Senator  New Jersey          democrat       1       3   \n",
       "\n",
       "  count_3 count_4 count_5                                   context  \n",
       "0       1       1       0                           a floor speech.  \n",
       "1     160     163       9                                    Denver  \n",
       "2       3       5      44                            a news release  \n",
       "3      20      19       2                       an interview on CNN  \n",
       "4       2       5       1                 a an online opinion-piece  \n",
       "5       1       3       1                          a press release.  \n",
       "6     160     163       9  a Democratic debate in Philadelphia, Pa.  \n",
       "7       1       0       1                                a website   \n",
       "8       0       1       0                           an online video  \n",
       "9       1       3       0                                  a speech  "
      ]
     },
     "execution_count": 6,
     "metadata": {},
     "output_type": "execute_result"
    }
   ],
   "source": [
    "#LIAR dataset as a whole\n",
    "LIAR.head(10)"
   ]
  },
  {
   "cell_type": "code",
   "execution_count": 7,
   "id": "839bb783",
   "metadata": {
    "scrolled": true
   },
   "outputs": [
    {
     "data": {
      "text/plain": [
       "(12788, 14)"
      ]
     },
     "execution_count": 7,
     "metadata": {},
     "output_type": "execute_result"
    }
   ],
   "source": [
    "LIAR.shape"
   ]
  },
  {
   "cell_type": "code",
   "execution_count": 8,
   "id": "5faf8cb2",
   "metadata": {},
   "outputs": [],
   "source": [
    "LIAR.drop_duplicates(inplace=True)"
   ]
  },
  {
   "cell_type": "code",
   "execution_count": 9,
   "id": "1089008c",
   "metadata": {
    "scrolled": true
   },
   "outputs": [
    {
     "data": {
      "text/plain": [
       "(12788, 14)"
      ]
     },
     "execution_count": 9,
     "metadata": {},
     "output_type": "execute_result"
    }
   ],
   "source": [
    "LIAR.shape"
   ]
  },
  {
   "cell_type": "code",
   "execution_count": 10,
   "id": "3cf24bb4",
   "metadata": {
    "scrolled": true
   },
   "outputs": [
    {
     "data": {
      "text/html": [
       "<div>\n",
       "<style scoped>\n",
       "    .dataframe tbody tr th:only-of-type {\n",
       "        vertical-align: middle;\n",
       "    }\n",
       "\n",
       "    .dataframe tbody tr th {\n",
       "        vertical-align: top;\n",
       "    }\n",
       "\n",
       "    .dataframe thead th {\n",
       "        text-align: right;\n",
       "    }\n",
       "</style>\n",
       "<table border=\"1\" class=\"dataframe\">\n",
       "  <thead>\n",
       "    <tr style=\"text-align: right;\">\n",
       "      <th></th>\n",
       "      <th>id</th>\n",
       "      <th>label</th>\n",
       "      <th>statement</th>\n",
       "      <th>subjects</th>\n",
       "      <th>speaker</th>\n",
       "      <th>speaker_job_title</th>\n",
       "      <th>state_info</th>\n",
       "      <th>party_affiliation</th>\n",
       "      <th>count_1</th>\n",
       "      <th>count_2</th>\n",
       "      <th>count_3</th>\n",
       "      <th>count_4</th>\n",
       "      <th>count_5</th>\n",
       "      <th>context</th>\n",
       "    </tr>\n",
       "  </thead>\n",
       "  <tbody>\n",
       "    <tr>\n",
       "      <th>0</th>\n",
       "      <td>10540.json</td>\n",
       "      <td>half-true</td>\n",
       "      <td>When did the decline of coal start? It started...</td>\n",
       "      <td>energy,history,job-accomplishments</td>\n",
       "      <td>scott-surovell</td>\n",
       "      <td>State delegate</td>\n",
       "      <td>Virginia</td>\n",
       "      <td>democrat</td>\n",
       "      <td>0</td>\n",
       "      <td>0</td>\n",
       "      <td>1</td>\n",
       "      <td>1</td>\n",
       "      <td>0</td>\n",
       "      <td>a floor speech.</td>\n",
       "    </tr>\n",
       "    <tr>\n",
       "      <th>1</th>\n",
       "      <td>324.json</td>\n",
       "      <td>mostly-true</td>\n",
       "      <td>Hillary Clinton agrees with John McCain \"by vo...</td>\n",
       "      <td>foreign-policy</td>\n",
       "      <td>barack-obama</td>\n",
       "      <td>President</td>\n",
       "      <td>Illinois</td>\n",
       "      <td>democrat</td>\n",
       "      <td>70</td>\n",
       "      <td>71</td>\n",
       "      <td>160</td>\n",
       "      <td>163</td>\n",
       "      <td>9</td>\n",
       "      <td>Denver</td>\n",
       "    </tr>\n",
       "    <tr>\n",
       "      <th>2</th>\n",
       "      <td>1123.json</td>\n",
       "      <td>false</td>\n",
       "      <td>Health care reform legislation is likely to ma...</td>\n",
       "      <td>health-care</td>\n",
       "      <td>blog-posting</td>\n",
       "      <td></td>\n",
       "      <td></td>\n",
       "      <td>none</td>\n",
       "      <td>7</td>\n",
       "      <td>19</td>\n",
       "      <td>3</td>\n",
       "      <td>5</td>\n",
       "      <td>44</td>\n",
       "      <td>a news release</td>\n",
       "    </tr>\n",
       "    <tr>\n",
       "      <th>3</th>\n",
       "      <td>9028.json</td>\n",
       "      <td>half-true</td>\n",
       "      <td>The economic turnaround started at the end of ...</td>\n",
       "      <td>economy,jobs</td>\n",
       "      <td>charlie-crist</td>\n",
       "      <td></td>\n",
       "      <td>Florida</td>\n",
       "      <td>democrat</td>\n",
       "      <td>15</td>\n",
       "      <td>9</td>\n",
       "      <td>20</td>\n",
       "      <td>19</td>\n",
       "      <td>2</td>\n",
       "      <td>an interview on CNN</td>\n",
       "    </tr>\n",
       "    <tr>\n",
       "      <th>4</th>\n",
       "      <td>12465.json</td>\n",
       "      <td>true</td>\n",
       "      <td>The Chicago Bears have had more starting quart...</td>\n",
       "      <td>education</td>\n",
       "      <td>robin-vos</td>\n",
       "      <td>Wisconsin Assembly speaker</td>\n",
       "      <td>Wisconsin</td>\n",
       "      <td>republican</td>\n",
       "      <td>0</td>\n",
       "      <td>3</td>\n",
       "      <td>2</td>\n",
       "      <td>5</td>\n",
       "      <td>1</td>\n",
       "      <td>a an online opinion-piece</td>\n",
       "    </tr>\n",
       "  </tbody>\n",
       "</table>\n",
       "</div>"
      ],
      "text/plain": [
       "           id        label                                          statement  \\\n",
       "0  10540.json    half-true  When did the decline of coal start? It started...   \n",
       "1    324.json  mostly-true  Hillary Clinton agrees with John McCain \"by vo...   \n",
       "2   1123.json        false  Health care reform legislation is likely to ma...   \n",
       "3   9028.json    half-true  The economic turnaround started at the end of ...   \n",
       "4  12465.json         true  The Chicago Bears have had more starting quart...   \n",
       "\n",
       "                             subjects         speaker  \\\n",
       "0  energy,history,job-accomplishments  scott-surovell   \n",
       "1                      foreign-policy    barack-obama   \n",
       "2                         health-care    blog-posting   \n",
       "3                        economy,jobs   charlie-crist   \n",
       "4                           education       robin-vos   \n",
       "\n",
       "            speaker_job_title state_info party_affiliation count_1 count_2  \\\n",
       "0              State delegate   Virginia          democrat       0       0   \n",
       "1                   President   Illinois          democrat      70      71   \n",
       "2                                                     none       7      19   \n",
       "3                                Florida          democrat      15       9   \n",
       "4  Wisconsin Assembly speaker  Wisconsin        republican       0       3   \n",
       "\n",
       "  count_3 count_4 count_5                    context  \n",
       "0       1       1       0            a floor speech.  \n",
       "1     160     163       9                     Denver  \n",
       "2       3       5      44             a news release  \n",
       "3      20      19       2        an interview on CNN  \n",
       "4       2       5       1  a an online opinion-piece  "
      ]
     },
     "execution_count": 10,
     "metadata": {},
     "output_type": "execute_result"
    }
   ],
   "source": [
    "LIAR.head(5)"
   ]
  },
  {
   "cell_type": "markdown",
   "id": "5ffe719e",
   "metadata": {},
   "source": [
    "To simplify things, every column except 'label' and 'statement' will be dropped. Also, the dataset contains 6 different labels. \n",
    "\n",
    "1. true - statement is accurate\n",
    "2. mostly-true - statement is accurate but needs clarification\n",
    "3. half-true - statement is partially accurate but important details are left out\n",
    "4. barely-true - statement contains truthful elements but ignores crital facts that would provide a different sentiment\n",
    "5. false - statement is not accurate\n",
    "6. pants-fire - statement is not accurate and claim is ridiculous\n",
    "\n",
    "However, for the sake of simplicity, these 6 labels will be reduced to 2 labels, 0 and 1 representing true and false respectively. This allows binary classification to take place, which requires less computationally expensive. However, the picture painted by binary classification will not be as detailed as multi-class classification. "
   ]
  },
  {
   "cell_type": "code",
   "execution_count": 11,
   "id": "2b451312",
   "metadata": {},
   "outputs": [],
   "source": [
    "#drop columns from training set\n",
    "LIAR = LIAR.drop(['id','speaker_job_title','state_info'], axis=1)"
   ]
  },
  {
   "cell_type": "code",
   "execution_count": 12,
   "id": "8591e897",
   "metadata": {},
   "outputs": [],
   "source": [
    "#rearrange columns so that text columns are grouped together, likewise for number columns\n",
    "column_order = [1,2,3,4,10,5,6,7,8,9,0]\n",
    "LIAR = LIAR.iloc[:, column_order]"
   ]
  },
  {
   "cell_type": "code",
   "execution_count": 13,
   "id": "2e97c06d",
   "metadata": {
    "scrolled": true
   },
   "outputs": [
    {
     "data": {
      "text/html": [
       "<div>\n",
       "<style scoped>\n",
       "    .dataframe tbody tr th:only-of-type {\n",
       "        vertical-align: middle;\n",
       "    }\n",
       "\n",
       "    .dataframe tbody tr th {\n",
       "        vertical-align: top;\n",
       "    }\n",
       "\n",
       "    .dataframe thead th {\n",
       "        text-align: right;\n",
       "    }\n",
       "</style>\n",
       "<table border=\"1\" class=\"dataframe\">\n",
       "  <thead>\n",
       "    <tr style=\"text-align: right;\">\n",
       "      <th></th>\n",
       "      <th>statement</th>\n",
       "      <th>subjects</th>\n",
       "      <th>speaker</th>\n",
       "      <th>party_affiliation</th>\n",
       "      <th>context</th>\n",
       "      <th>count_1</th>\n",
       "      <th>count_2</th>\n",
       "      <th>count_3</th>\n",
       "      <th>count_4</th>\n",
       "      <th>count_5</th>\n",
       "      <th>label</th>\n",
       "    </tr>\n",
       "  </thead>\n",
       "  <tbody>\n",
       "    <tr>\n",
       "      <th>0</th>\n",
       "      <td>When did the decline of coal start? It started...</td>\n",
       "      <td>energy,history,job-accomplishments</td>\n",
       "      <td>scott-surovell</td>\n",
       "      <td>democrat</td>\n",
       "      <td>a floor speech.</td>\n",
       "      <td>0</td>\n",
       "      <td>0</td>\n",
       "      <td>1</td>\n",
       "      <td>1</td>\n",
       "      <td>0</td>\n",
       "      <td>half-true</td>\n",
       "    </tr>\n",
       "    <tr>\n",
       "      <th>1</th>\n",
       "      <td>Hillary Clinton agrees with John McCain \"by vo...</td>\n",
       "      <td>foreign-policy</td>\n",
       "      <td>barack-obama</td>\n",
       "      <td>democrat</td>\n",
       "      <td>Denver</td>\n",
       "      <td>70</td>\n",
       "      <td>71</td>\n",
       "      <td>160</td>\n",
       "      <td>163</td>\n",
       "      <td>9</td>\n",
       "      <td>mostly-true</td>\n",
       "    </tr>\n",
       "    <tr>\n",
       "      <th>2</th>\n",
       "      <td>Health care reform legislation is likely to ma...</td>\n",
       "      <td>health-care</td>\n",
       "      <td>blog-posting</td>\n",
       "      <td>none</td>\n",
       "      <td>a news release</td>\n",
       "      <td>7</td>\n",
       "      <td>19</td>\n",
       "      <td>3</td>\n",
       "      <td>5</td>\n",
       "      <td>44</td>\n",
       "      <td>false</td>\n",
       "    </tr>\n",
       "    <tr>\n",
       "      <th>3</th>\n",
       "      <td>The economic turnaround started at the end of ...</td>\n",
       "      <td>economy,jobs</td>\n",
       "      <td>charlie-crist</td>\n",
       "      <td>democrat</td>\n",
       "      <td>an interview on CNN</td>\n",
       "      <td>15</td>\n",
       "      <td>9</td>\n",
       "      <td>20</td>\n",
       "      <td>19</td>\n",
       "      <td>2</td>\n",
       "      <td>half-true</td>\n",
       "    </tr>\n",
       "    <tr>\n",
       "      <th>4</th>\n",
       "      <td>The Chicago Bears have had more starting quart...</td>\n",
       "      <td>education</td>\n",
       "      <td>robin-vos</td>\n",
       "      <td>republican</td>\n",
       "      <td>a an online opinion-piece</td>\n",
       "      <td>0</td>\n",
       "      <td>3</td>\n",
       "      <td>2</td>\n",
       "      <td>5</td>\n",
       "      <td>1</td>\n",
       "      <td>true</td>\n",
       "    </tr>\n",
       "  </tbody>\n",
       "</table>\n",
       "</div>"
      ],
      "text/plain": [
       "                                           statement  \\\n",
       "0  When did the decline of coal start? It started...   \n",
       "1  Hillary Clinton agrees with John McCain \"by vo...   \n",
       "2  Health care reform legislation is likely to ma...   \n",
       "3  The economic turnaround started at the end of ...   \n",
       "4  The Chicago Bears have had more starting quart...   \n",
       "\n",
       "                             subjects         speaker party_affiliation  \\\n",
       "0  energy,history,job-accomplishments  scott-surovell          democrat   \n",
       "1                      foreign-policy    barack-obama          democrat   \n",
       "2                         health-care    blog-posting              none   \n",
       "3                        economy,jobs   charlie-crist          democrat   \n",
       "4                           education       robin-vos        republican   \n",
       "\n",
       "                     context count_1 count_2 count_3 count_4 count_5  \\\n",
       "0            a floor speech.       0       0       1       1       0   \n",
       "1                     Denver      70      71     160     163       9   \n",
       "2             a news release       7      19       3       5      44   \n",
       "3        an interview on CNN      15       9      20      19       2   \n",
       "4  a an online opinion-piece       0       3       2       5       1   \n",
       "\n",
       "         label  \n",
       "0    half-true  \n",
       "1  mostly-true  \n",
       "2        false  \n",
       "3    half-true  \n",
       "4         true  "
      ]
     },
     "execution_count": 13,
     "metadata": {},
     "output_type": "execute_result"
    }
   ],
   "source": [
    "LIAR.head(5)"
   ]
  },
  {
   "cell_type": "code",
   "execution_count": 14,
   "id": "2404c3e6",
   "metadata": {
    "scrolled": true
   },
   "outputs": [
    {
     "data": {
      "text/html": [
       "<div>\n",
       "<style scoped>\n",
       "    .dataframe tbody tr th:only-of-type {\n",
       "        vertical-align: middle;\n",
       "    }\n",
       "\n",
       "    .dataframe tbody tr th {\n",
       "        vertical-align: top;\n",
       "    }\n",
       "\n",
       "    .dataframe thead th {\n",
       "        text-align: right;\n",
       "    }\n",
       "</style>\n",
       "<table border=\"1\" class=\"dataframe\">\n",
       "  <thead>\n",
       "    <tr style=\"text-align: right;\">\n",
       "      <th></th>\n",
       "      <th>statement</th>\n",
       "      <th>subjects</th>\n",
       "      <th>speaker</th>\n",
       "      <th>party_affiliation</th>\n",
       "      <th>context</th>\n",
       "    </tr>\n",
       "  </thead>\n",
       "  <tbody>\n",
       "    <tr>\n",
       "      <th>0</th>\n",
       "      <td>When did the decline of coal start? It started...</td>\n",
       "      <td>energy,history,job-accomplishments</td>\n",
       "      <td>scott-surovell</td>\n",
       "      <td>democrat</td>\n",
       "      <td>a floor speech.</td>\n",
       "    </tr>\n",
       "    <tr>\n",
       "      <th>1</th>\n",
       "      <td>Hillary Clinton agrees with John McCain \"by vo...</td>\n",
       "      <td>foreign-policy</td>\n",
       "      <td>barack-obama</td>\n",
       "      <td>democrat</td>\n",
       "      <td>Denver</td>\n",
       "    </tr>\n",
       "    <tr>\n",
       "      <th>2</th>\n",
       "      <td>Health care reform legislation is likely to ma...</td>\n",
       "      <td>health-care</td>\n",
       "      <td>blog-posting</td>\n",
       "      <td>none</td>\n",
       "      <td>a news release</td>\n",
       "    </tr>\n",
       "    <tr>\n",
       "      <th>3</th>\n",
       "      <td>The economic turnaround started at the end of ...</td>\n",
       "      <td>economy,jobs</td>\n",
       "      <td>charlie-crist</td>\n",
       "      <td>democrat</td>\n",
       "      <td>an interview on CNN</td>\n",
       "    </tr>\n",
       "    <tr>\n",
       "      <th>4</th>\n",
       "      <td>The Chicago Bears have had more starting quart...</td>\n",
       "      <td>education</td>\n",
       "      <td>robin-vos</td>\n",
       "      <td>republican</td>\n",
       "      <td>a an online opinion-piece</td>\n",
       "    </tr>\n",
       "    <tr>\n",
       "      <th>...</th>\n",
       "      <td>...</td>\n",
       "      <td>...</td>\n",
       "      <td>...</td>\n",
       "      <td>...</td>\n",
       "      <td>...</td>\n",
       "    </tr>\n",
       "    <tr>\n",
       "      <th>1278</th>\n",
       "      <td>For the first time in more than a decade, impo...</td>\n",
       "      <td>energy,oil-spill,trade</td>\n",
       "      <td>barack-obama</td>\n",
       "      <td>democrat</td>\n",
       "      <td>a press conference</td>\n",
       "    </tr>\n",
       "    <tr>\n",
       "      <th>1279</th>\n",
       "      <td>Says Donald Trump has bankrupted his companies...</td>\n",
       "      <td>candidates-biography</td>\n",
       "      <td>hillary-clinton</td>\n",
       "      <td>democrat</td>\n",
       "      <td>a speech on the economy</td>\n",
       "    </tr>\n",
       "    <tr>\n",
       "      <th>1280</th>\n",
       "      <td>John McCain and George Bush have \"absolutely n...</td>\n",
       "      <td>health-care</td>\n",
       "      <td>campaign-defend-america</td>\n",
       "      <td>none</td>\n",
       "      <td>a television ad</td>\n",
       "    </tr>\n",
       "    <tr>\n",
       "      <th>1281</th>\n",
       "      <td>A new poll shows 62 percent support the presid...</td>\n",
       "      <td>health-care</td>\n",
       "      <td>americans-united-change</td>\n",
       "      <td>none</td>\n",
       "      <td>an Internet ad.</td>\n",
       "    </tr>\n",
       "    <tr>\n",
       "      <th>1282</th>\n",
       "      <td>No one claims the report vindicating New Jerse...</td>\n",
       "      <td>candidates-biography,infrastructure</td>\n",
       "      <td>rudy-giuliani</td>\n",
       "      <td>republican</td>\n",
       "      <td>comments on NBC's \"Meet the Press\"</td>\n",
       "    </tr>\n",
       "  </tbody>\n",
       "</table>\n",
       "<p>12788 rows × 5 columns</p>\n",
       "</div>"
      ],
      "text/plain": [
       "                                              statement  \\\n",
       "0     When did the decline of coal start? It started...   \n",
       "1     Hillary Clinton agrees with John McCain \"by vo...   \n",
       "2     Health care reform legislation is likely to ma...   \n",
       "3     The economic turnaround started at the end of ...   \n",
       "4     The Chicago Bears have had more starting quart...   \n",
       "...                                                 ...   \n",
       "1278  For the first time in more than a decade, impo...   \n",
       "1279  Says Donald Trump has bankrupted his companies...   \n",
       "1280  John McCain and George Bush have \"absolutely n...   \n",
       "1281  A new poll shows 62 percent support the presid...   \n",
       "1282  No one claims the report vindicating New Jerse...   \n",
       "\n",
       "                                 subjects                  speaker  \\\n",
       "0      energy,history,job-accomplishments           scott-surovell   \n",
       "1                          foreign-policy             barack-obama   \n",
       "2                             health-care             blog-posting   \n",
       "3                            economy,jobs            charlie-crist   \n",
       "4                               education                robin-vos   \n",
       "...                                   ...                      ...   \n",
       "1278               energy,oil-spill,trade             barack-obama   \n",
       "1279                 candidates-biography          hillary-clinton   \n",
       "1280                          health-care  campaign-defend-america   \n",
       "1281                          health-care  americans-united-change   \n",
       "1282  candidates-biography,infrastructure            rudy-giuliani   \n",
       "\n",
       "     party_affiliation                             context  \n",
       "0             democrat                     a floor speech.  \n",
       "1             democrat                              Denver  \n",
       "2                 none                      a news release  \n",
       "3             democrat                 an interview on CNN  \n",
       "4           republican           a an online opinion-piece  \n",
       "...                ...                                 ...  \n",
       "1278          democrat                  a press conference  \n",
       "1279          democrat             a speech on the economy  \n",
       "1280              none                     a television ad  \n",
       "1281              none                     an Internet ad.  \n",
       "1282        republican  comments on NBC's \"Meet the Press\"  \n",
       "\n",
       "[12788 rows x 5 columns]"
      ]
     },
     "execution_count": 14,
     "metadata": {},
     "output_type": "execute_result"
    }
   ],
   "source": [
    "LIAR.iloc[:,0:5]"
   ]
  },
  {
   "cell_type": "code",
   "execution_count": 15,
   "id": "cef1b524",
   "metadata": {},
   "outputs": [],
   "source": [
    "#reducing multiple labels to two labels for binary classification\n",
    "def binary_label_conv(label):\n",
    "    if label in ['true','mostly-true','half-true']:\n",
    "        return 0\n",
    "    elif label in ['barely-true','false','pants-fire']:\n",
    "        return 1\n",
    "    else:\n",
    "        return label"
   ]
  },
  {
   "cell_type": "code",
   "execution_count": 16,
   "id": "525bd500",
   "metadata": {},
   "outputs": [],
   "source": [
    "#apply new labels to training set\n",
    "LIAR['label'] = LIAR['label'].apply(binary_label_conv)"
   ]
  },
  {
   "cell_type": "code",
   "execution_count": 17,
   "id": "33248e55",
   "metadata": {},
   "outputs": [],
   "source": [
    "#remove numbers, special characters and punctuation using regex\n",
    "def textProcessing(text):\n",
    "    text = re.sub(r'[^a-zA-Z\\s]', ' ', text) #remove everything that is not letters\n",
    "    text = text.lower() #convert to lowercase\n",
    "    \n",
    "    return text"
   ]
  },
  {
   "cell_type": "code",
   "execution_count": 18,
   "id": "3369a059",
   "metadata": {
    "scrolled": true
   },
   "outputs": [],
   "source": [
    "#apply text processing function to all text columns\n",
    "LIAR['statement'] = LIAR['statement'].apply(textProcessing)\n",
    "LIAR['subjects'] = LIAR['subjects'].apply(textProcessing)\n",
    "LIAR['speaker'] = LIAR['speaker'].apply(textProcessing)\n",
    "LIAR['party_affiliation'] = LIAR['party_affiliation'].apply(textProcessing)\n",
    "LIAR['context'] = LIAR['context'].apply(textProcessing)"
   ]
  },
  {
   "cell_type": "code",
   "execution_count": 19,
   "id": "b100f26c",
   "metadata": {
    "scrolled": true
   },
   "outputs": [
    {
     "data": {
      "text/html": [
       "<div>\n",
       "<style scoped>\n",
       "    .dataframe tbody tr th:only-of-type {\n",
       "        vertical-align: middle;\n",
       "    }\n",
       "\n",
       "    .dataframe tbody tr th {\n",
       "        vertical-align: top;\n",
       "    }\n",
       "\n",
       "    .dataframe thead th {\n",
       "        text-align: right;\n",
       "    }\n",
       "</style>\n",
       "<table border=\"1\" class=\"dataframe\">\n",
       "  <thead>\n",
       "    <tr style=\"text-align: right;\">\n",
       "      <th></th>\n",
       "      <th>statement</th>\n",
       "      <th>subjects</th>\n",
       "      <th>speaker</th>\n",
       "      <th>party_affiliation</th>\n",
       "      <th>context</th>\n",
       "      <th>count_1</th>\n",
       "      <th>count_2</th>\n",
       "      <th>count_3</th>\n",
       "      <th>count_4</th>\n",
       "      <th>count_5</th>\n",
       "      <th>label</th>\n",
       "    </tr>\n",
       "  </thead>\n",
       "  <tbody>\n",
       "    <tr>\n",
       "      <th>0</th>\n",
       "      <td>when did the decline of coal start  it started...</td>\n",
       "      <td>energy history job accomplishments</td>\n",
       "      <td>scott surovell</td>\n",
       "      <td>democrat</td>\n",
       "      <td>a floor speech</td>\n",
       "      <td>0</td>\n",
       "      <td>0</td>\n",
       "      <td>1</td>\n",
       "      <td>1</td>\n",
       "      <td>0</td>\n",
       "      <td>0</td>\n",
       "    </tr>\n",
       "    <tr>\n",
       "      <th>1</th>\n",
       "      <td>hillary clinton agrees with john mccain  by vo...</td>\n",
       "      <td>foreign policy</td>\n",
       "      <td>barack obama</td>\n",
       "      <td>democrat</td>\n",
       "      <td>denver</td>\n",
       "      <td>70</td>\n",
       "      <td>71</td>\n",
       "      <td>160</td>\n",
       "      <td>163</td>\n",
       "      <td>9</td>\n",
       "      <td>0</td>\n",
       "    </tr>\n",
       "    <tr>\n",
       "      <th>2</th>\n",
       "      <td>health care reform legislation is likely to ma...</td>\n",
       "      <td>health care</td>\n",
       "      <td>blog posting</td>\n",
       "      <td>none</td>\n",
       "      <td>a news release</td>\n",
       "      <td>7</td>\n",
       "      <td>19</td>\n",
       "      <td>3</td>\n",
       "      <td>5</td>\n",
       "      <td>44</td>\n",
       "      <td>1</td>\n",
       "    </tr>\n",
       "    <tr>\n",
       "      <th>3</th>\n",
       "      <td>the economic turnaround started at the end of ...</td>\n",
       "      <td>economy jobs</td>\n",
       "      <td>charlie crist</td>\n",
       "      <td>democrat</td>\n",
       "      <td>an interview on cnn</td>\n",
       "      <td>15</td>\n",
       "      <td>9</td>\n",
       "      <td>20</td>\n",
       "      <td>19</td>\n",
       "      <td>2</td>\n",
       "      <td>0</td>\n",
       "    </tr>\n",
       "    <tr>\n",
       "      <th>4</th>\n",
       "      <td>the chicago bears have had more starting quart...</td>\n",
       "      <td>education</td>\n",
       "      <td>robin vos</td>\n",
       "      <td>republican</td>\n",
       "      <td>a an online opinion piece</td>\n",
       "      <td>0</td>\n",
       "      <td>3</td>\n",
       "      <td>2</td>\n",
       "      <td>5</td>\n",
       "      <td>1</td>\n",
       "      <td>0</td>\n",
       "    </tr>\n",
       "    <tr>\n",
       "      <th>...</th>\n",
       "      <td>...</td>\n",
       "      <td>...</td>\n",
       "      <td>...</td>\n",
       "      <td>...</td>\n",
       "      <td>...</td>\n",
       "      <td>...</td>\n",
       "      <td>...</td>\n",
       "      <td>...</td>\n",
       "      <td>...</td>\n",
       "      <td>...</td>\n",
       "      <td>...</td>\n",
       "    </tr>\n",
       "    <tr>\n",
       "      <th>1278</th>\n",
       "      <td>for the first time in more than a decade  impo...</td>\n",
       "      <td>energy oil spill trade</td>\n",
       "      <td>barack obama</td>\n",
       "      <td>democrat</td>\n",
       "      <td>a press conference</td>\n",
       "      <td>70</td>\n",
       "      <td>71</td>\n",
       "      <td>160</td>\n",
       "      <td>163</td>\n",
       "      <td>9</td>\n",
       "      <td>0</td>\n",
       "    </tr>\n",
       "    <tr>\n",
       "      <th>1279</th>\n",
       "      <td>says donald trump has bankrupted his companies...</td>\n",
       "      <td>candidates biography</td>\n",
       "      <td>hillary clinton</td>\n",
       "      <td>democrat</td>\n",
       "      <td>a speech on the economy</td>\n",
       "      <td>40</td>\n",
       "      <td>29</td>\n",
       "      <td>69</td>\n",
       "      <td>76</td>\n",
       "      <td>7</td>\n",
       "      <td>0</td>\n",
       "    </tr>\n",
       "    <tr>\n",
       "      <th>1280</th>\n",
       "      <td>john mccain and george bush have  absolutely n...</td>\n",
       "      <td>health care</td>\n",
       "      <td>campaign defend america</td>\n",
       "      <td>none</td>\n",
       "      <td>a television ad</td>\n",
       "      <td>0</td>\n",
       "      <td>1</td>\n",
       "      <td>0</td>\n",
       "      <td>2</td>\n",
       "      <td>0</td>\n",
       "      <td>0</td>\n",
       "    </tr>\n",
       "    <tr>\n",
       "      <th>1281</th>\n",
       "      <td>a new poll shows    percent support the presid...</td>\n",
       "      <td>health care</td>\n",
       "      <td>americans united change</td>\n",
       "      <td>none</td>\n",
       "      <td>an internet ad</td>\n",
       "      <td>1</td>\n",
       "      <td>4</td>\n",
       "      <td>4</td>\n",
       "      <td>1</td>\n",
       "      <td>0</td>\n",
       "      <td>1</td>\n",
       "    </tr>\n",
       "    <tr>\n",
       "      <th>1282</th>\n",
       "      <td>no one claims the report vindicating new jerse...</td>\n",
       "      <td>candidates biography infrastructure</td>\n",
       "      <td>rudy giuliani</td>\n",
       "      <td>republican</td>\n",
       "      <td>comments on nbc s  meet the press</td>\n",
       "      <td>9</td>\n",
       "      <td>11</td>\n",
       "      <td>10</td>\n",
       "      <td>7</td>\n",
       "      <td>3</td>\n",
       "      <td>1</td>\n",
       "    </tr>\n",
       "  </tbody>\n",
       "</table>\n",
       "<p>12788 rows × 11 columns</p>\n",
       "</div>"
      ],
      "text/plain": [
       "                                              statement  \\\n",
       "0     when did the decline of coal start  it started...   \n",
       "1     hillary clinton agrees with john mccain  by vo...   \n",
       "2     health care reform legislation is likely to ma...   \n",
       "3     the economic turnaround started at the end of ...   \n",
       "4     the chicago bears have had more starting quart...   \n",
       "...                                                 ...   \n",
       "1278  for the first time in more than a decade  impo...   \n",
       "1279  says donald trump has bankrupted his companies...   \n",
       "1280  john mccain and george bush have  absolutely n...   \n",
       "1281  a new poll shows    percent support the presid...   \n",
       "1282  no one claims the report vindicating new jerse...   \n",
       "\n",
       "                                 subjects                  speaker  \\\n",
       "0      energy history job accomplishments           scott surovell   \n",
       "1                          foreign policy             barack obama   \n",
       "2                             health care             blog posting   \n",
       "3                            economy jobs            charlie crist   \n",
       "4                               education                robin vos   \n",
       "...                                   ...                      ...   \n",
       "1278               energy oil spill trade             barack obama   \n",
       "1279                 candidates biography          hillary clinton   \n",
       "1280                          health care  campaign defend america   \n",
       "1281                          health care  americans united change   \n",
       "1282  candidates biography infrastructure            rudy giuliani   \n",
       "\n",
       "     party_affiliation                             context count_1 count_2  \\\n",
       "0             democrat                     a floor speech        0       0   \n",
       "1             democrat                              denver      70      71   \n",
       "2                 none                      a news release       7      19   \n",
       "3             democrat                 an interview on cnn      15       9   \n",
       "4           republican           a an online opinion piece       0       3   \n",
       "...                ...                                 ...     ...     ...   \n",
       "1278          democrat                  a press conference      70      71   \n",
       "1279          democrat             a speech on the economy      40      29   \n",
       "1280              none                     a television ad       0       1   \n",
       "1281              none                     an internet ad        1       4   \n",
       "1282        republican  comments on nbc s  meet the press        9      11   \n",
       "\n",
       "     count_3 count_4 count_5  label  \n",
       "0          1       1       0      0  \n",
       "1        160     163       9      0  \n",
       "2          3       5      44      1  \n",
       "3         20      19       2      0  \n",
       "4          2       5       1      0  \n",
       "...      ...     ...     ...    ...  \n",
       "1278     160     163       9      0  \n",
       "1279      69      76       7      0  \n",
       "1280       0       2       0      0  \n",
       "1281       4       1       0      1  \n",
       "1282      10       7       3      1  \n",
       "\n",
       "[12788 rows x 11 columns]"
      ]
     },
     "execution_count": 19,
     "metadata": {},
     "output_type": "execute_result"
    }
   ],
   "source": [
    "LIAR"
   ]
  },
  {
   "cell_type": "code",
   "execution_count": 20,
   "id": "4f7d4cbf",
   "metadata": {},
   "outputs": [],
   "source": [
    "#stopword removal\n",
    "stop = stopwords.words('english')\n",
    "LIAR['statement'] = LIAR['statement'].apply(lambda x: ' '.join([word for word in x.split() if word not in (stop)]))\n",
    "LIAR['subjects'] = LIAR['subjects'].apply(lambda x: ' '.join([word for word in x.split() if word not in (stop)]))\n",
    "LIAR['context'] = LIAR['context'].apply(lambda x: ' '.join([word for word in x.split() if word not in (stop)]))"
   ]
  },
  {
   "cell_type": "code",
   "execution_count": 21,
   "id": "6d358a9f",
   "metadata": {
    "scrolled": false
   },
   "outputs": [
    {
     "data": {
      "text/html": [
       "<div>\n",
       "<style scoped>\n",
       "    .dataframe tbody tr th:only-of-type {\n",
       "        vertical-align: middle;\n",
       "    }\n",
       "\n",
       "    .dataframe tbody tr th {\n",
       "        vertical-align: top;\n",
       "    }\n",
       "\n",
       "    .dataframe thead th {\n",
       "        text-align: right;\n",
       "    }\n",
       "</style>\n",
       "<table border=\"1\" class=\"dataframe\">\n",
       "  <thead>\n",
       "    <tr style=\"text-align: right;\">\n",
       "      <th></th>\n",
       "      <th>statement</th>\n",
       "      <th>subjects</th>\n",
       "      <th>speaker</th>\n",
       "      <th>party_affiliation</th>\n",
       "      <th>context</th>\n",
       "      <th>count_1</th>\n",
       "      <th>count_2</th>\n",
       "      <th>count_3</th>\n",
       "      <th>count_4</th>\n",
       "      <th>count_5</th>\n",
       "      <th>label</th>\n",
       "    </tr>\n",
       "  </thead>\n",
       "  <tbody>\n",
       "    <tr>\n",
       "      <th>0</th>\n",
       "      <td>decline coal start started natural gas took st...</td>\n",
       "      <td>energy history job accomplishments</td>\n",
       "      <td>scott surovell</td>\n",
       "      <td>democrat</td>\n",
       "      <td>floor speech</td>\n",
       "      <td>0</td>\n",
       "      <td>0</td>\n",
       "      <td>1</td>\n",
       "      <td>1</td>\n",
       "      <td>0</td>\n",
       "      <td>0</td>\n",
       "    </tr>\n",
       "    <tr>\n",
       "      <th>1</th>\n",
       "      <td>hillary clinton agrees john mccain voting give...</td>\n",
       "      <td>foreign policy</td>\n",
       "      <td>barack obama</td>\n",
       "      <td>democrat</td>\n",
       "      <td>denver</td>\n",
       "      <td>70</td>\n",
       "      <td>71</td>\n",
       "      <td>160</td>\n",
       "      <td>163</td>\n",
       "      <td>9</td>\n",
       "      <td>0</td>\n",
       "    </tr>\n",
       "    <tr>\n",
       "      <th>2</th>\n",
       "      <td>health care reform legislation likely mandate ...</td>\n",
       "      <td>health care</td>\n",
       "      <td>blog posting</td>\n",
       "      <td>none</td>\n",
       "      <td>news release</td>\n",
       "      <td>7</td>\n",
       "      <td>19</td>\n",
       "      <td>3</td>\n",
       "      <td>5</td>\n",
       "      <td>44</td>\n",
       "      <td>1</td>\n",
       "    </tr>\n",
       "    <tr>\n",
       "      <th>3</th>\n",
       "      <td>economic turnaround started end term</td>\n",
       "      <td>economy jobs</td>\n",
       "      <td>charlie crist</td>\n",
       "      <td>democrat</td>\n",
       "      <td>interview cnn</td>\n",
       "      <td>15</td>\n",
       "      <td>9</td>\n",
       "      <td>20</td>\n",
       "      <td>19</td>\n",
       "      <td>2</td>\n",
       "      <td>0</td>\n",
       "    </tr>\n",
       "    <tr>\n",
       "      <th>4</th>\n",
       "      <td>chicago bears starting quarterbacks last years...</td>\n",
       "      <td>education</td>\n",
       "      <td>robin vos</td>\n",
       "      <td>republican</td>\n",
       "      <td>online opinion piece</td>\n",
       "      <td>0</td>\n",
       "      <td>3</td>\n",
       "      <td>2</td>\n",
       "      <td>5</td>\n",
       "      <td>1</td>\n",
       "      <td>0</td>\n",
       "    </tr>\n",
       "    <tr>\n",
       "      <th>...</th>\n",
       "      <td>...</td>\n",
       "      <td>...</td>\n",
       "      <td>...</td>\n",
       "      <td>...</td>\n",
       "      <td>...</td>\n",
       "      <td>...</td>\n",
       "      <td>...</td>\n",
       "      <td>...</td>\n",
       "      <td>...</td>\n",
       "      <td>...</td>\n",
       "      <td>...</td>\n",
       "    </tr>\n",
       "    <tr>\n",
       "      <th>1278</th>\n",
       "      <td>first time decade imports accounted less half ...</td>\n",
       "      <td>energy oil spill trade</td>\n",
       "      <td>barack obama</td>\n",
       "      <td>democrat</td>\n",
       "      <td>press conference</td>\n",
       "      <td>70</td>\n",
       "      <td>71</td>\n",
       "      <td>160</td>\n",
       "      <td>163</td>\n",
       "      <td>9</td>\n",
       "      <td>0</td>\n",
       "    </tr>\n",
       "    <tr>\n",
       "      <th>1279</th>\n",
       "      <td>says donald trump bankrupted companies twice f...</td>\n",
       "      <td>candidates biography</td>\n",
       "      <td>hillary clinton</td>\n",
       "      <td>democrat</td>\n",
       "      <td>speech economy</td>\n",
       "      <td>40</td>\n",
       "      <td>29</td>\n",
       "      <td>69</td>\n",
       "      <td>76</td>\n",
       "      <td>7</td>\n",
       "      <td>0</td>\n",
       "    </tr>\n",
       "    <tr>\n",
       "      <th>1280</th>\n",
       "      <td>john mccain george bush absolutely plan univer...</td>\n",
       "      <td>health care</td>\n",
       "      <td>campaign defend america</td>\n",
       "      <td>none</td>\n",
       "      <td>television ad</td>\n",
       "      <td>0</td>\n",
       "      <td>1</td>\n",
       "      <td>0</td>\n",
       "      <td>2</td>\n",
       "      <td>0</td>\n",
       "      <td>0</td>\n",
       "    </tr>\n",
       "    <tr>\n",
       "      <th>1281</th>\n",
       "      <td>new poll shows percent support president plan ...</td>\n",
       "      <td>health care</td>\n",
       "      <td>americans united change</td>\n",
       "      <td>none</td>\n",
       "      <td>internet ad</td>\n",
       "      <td>1</td>\n",
       "      <td>4</td>\n",
       "      <td>4</td>\n",
       "      <td>1</td>\n",
       "      <td>0</td>\n",
       "      <td>1</td>\n",
       "    </tr>\n",
       "    <tr>\n",
       "      <th>1282</th>\n",
       "      <td>one claims report vindicating new jersey gov c...</td>\n",
       "      <td>candidates biography infrastructure</td>\n",
       "      <td>rudy giuliani</td>\n",
       "      <td>republican</td>\n",
       "      <td>comments nbc meet press</td>\n",
       "      <td>9</td>\n",
       "      <td>11</td>\n",
       "      <td>10</td>\n",
       "      <td>7</td>\n",
       "      <td>3</td>\n",
       "      <td>1</td>\n",
       "    </tr>\n",
       "  </tbody>\n",
       "</table>\n",
       "<p>12788 rows × 11 columns</p>\n",
       "</div>"
      ],
      "text/plain": [
       "                                              statement  \\\n",
       "0     decline coal start started natural gas took st...   \n",
       "1     hillary clinton agrees john mccain voting give...   \n",
       "2     health care reform legislation likely mandate ...   \n",
       "3                  economic turnaround started end term   \n",
       "4     chicago bears starting quarterbacks last years...   \n",
       "...                                                 ...   \n",
       "1278  first time decade imports accounted less half ...   \n",
       "1279  says donald trump bankrupted companies twice f...   \n",
       "1280  john mccain george bush absolutely plan univer...   \n",
       "1281  new poll shows percent support president plan ...   \n",
       "1282  one claims report vindicating new jersey gov c...   \n",
       "\n",
       "                                 subjects                  speaker  \\\n",
       "0      energy history job accomplishments           scott surovell   \n",
       "1                          foreign policy             barack obama   \n",
       "2                             health care             blog posting   \n",
       "3                            economy jobs            charlie crist   \n",
       "4                               education                robin vos   \n",
       "...                                   ...                      ...   \n",
       "1278               energy oil spill trade             barack obama   \n",
       "1279                 candidates biography          hillary clinton   \n",
       "1280                          health care  campaign defend america   \n",
       "1281                          health care  americans united change   \n",
       "1282  candidates biography infrastructure            rudy giuliani   \n",
       "\n",
       "     party_affiliation                  context count_1 count_2 count_3  \\\n",
       "0             democrat             floor speech       0       0       1   \n",
       "1             democrat                   denver      70      71     160   \n",
       "2                 none             news release       7      19       3   \n",
       "3             democrat            interview cnn      15       9      20   \n",
       "4           republican     online opinion piece       0       3       2   \n",
       "...                ...                      ...     ...     ...     ...   \n",
       "1278          democrat         press conference      70      71     160   \n",
       "1279          democrat           speech economy      40      29      69   \n",
       "1280              none            television ad       0       1       0   \n",
       "1281              none              internet ad       1       4       4   \n",
       "1282        republican  comments nbc meet press       9      11      10   \n",
       "\n",
       "     count_4 count_5  label  \n",
       "0          1       0      0  \n",
       "1        163       9      0  \n",
       "2          5      44      1  \n",
       "3         19       2      0  \n",
       "4          5       1      0  \n",
       "...      ...     ...    ...  \n",
       "1278     163       9      0  \n",
       "1279      76       7      0  \n",
       "1280       2       0      0  \n",
       "1281       1       0      1  \n",
       "1282       7       3      1  \n",
       "\n",
       "[12788 rows x 11 columns]"
      ]
     },
     "execution_count": 21,
     "metadata": {},
     "output_type": "execute_result"
    }
   ],
   "source": [
    "LIAR"
   ]
  },
  {
   "cell_type": "code",
   "execution_count": 22,
   "id": "4a5a8fa6",
   "metadata": {},
   "outputs": [],
   "source": [
    "LIAR_text = [LIAR['statement'],LIAR['subjects'],LIAR['speaker'],LIAR['party_affiliation'],LIAR['context']]"
   ]
  },
  {
   "cell_type": "code",
   "execution_count": 23,
   "id": "aaed59f9",
   "metadata": {},
   "outputs": [
    {
     "data": {
      "text/plain": [
       "list"
      ]
     },
     "execution_count": 23,
     "metadata": {},
     "output_type": "execute_result"
    }
   ],
   "source": [
    "type(LIAR_text)"
   ]
  },
  {
   "cell_type": "markdown",
   "id": "d4c983b2",
   "metadata": {},
   "source": [
    "### Feature Extraction"
   ]
  },
  {
   "cell_type": "markdown",
   "id": "f0ef579a",
   "metadata": {},
   "source": [
    "#### TF-IDF"
   ]
  },
  {
   "cell_type": "code",
   "execution_count": 24,
   "id": "02e4c4b8",
   "metadata": {},
   "outputs": [],
   "source": [
    "X_text = LIAR.iloc[:, 0:5] #text columns\n",
    "X_num = LIAR.iloc[:, 5:10] \n",
    "y = LIAR.iloc[:, 10] #binary label"
   ]
  },
  {
   "cell_type": "code",
   "execution_count": 25,
   "id": "65a736e5",
   "metadata": {
    "scrolled": false
   },
   "outputs": [
    {
     "data": {
      "text/html": [
       "<div>\n",
       "<style scoped>\n",
       "    .dataframe tbody tr th:only-of-type {\n",
       "        vertical-align: middle;\n",
       "    }\n",
       "\n",
       "    .dataframe tbody tr th {\n",
       "        vertical-align: top;\n",
       "    }\n",
       "\n",
       "    .dataframe thead th {\n",
       "        text-align: right;\n",
       "    }\n",
       "</style>\n",
       "<table border=\"1\" class=\"dataframe\">\n",
       "  <thead>\n",
       "    <tr style=\"text-align: right;\">\n",
       "      <th></th>\n",
       "      <th>statement</th>\n",
       "      <th>subjects</th>\n",
       "      <th>speaker</th>\n",
       "      <th>party_affiliation</th>\n",
       "      <th>context</th>\n",
       "    </tr>\n",
       "  </thead>\n",
       "  <tbody>\n",
       "    <tr>\n",
       "      <th>0</th>\n",
       "      <td>decline coal start started natural gas took st...</td>\n",
       "      <td>energy history job accomplishments</td>\n",
       "      <td>scott surovell</td>\n",
       "      <td>democrat</td>\n",
       "      <td>floor speech</td>\n",
       "    </tr>\n",
       "  </tbody>\n",
       "</table>\n",
       "</div>"
      ],
      "text/plain": [
       "                                           statement  \\\n",
       "0  decline coal start started natural gas took st...   \n",
       "\n",
       "                             subjects         speaker party_affiliation  \\\n",
       "0  energy history job accomplishments  scott surovell          democrat   \n",
       "\n",
       "        context  \n",
       "0  floor speech  "
      ]
     },
     "execution_count": 25,
     "metadata": {},
     "output_type": "execute_result"
    }
   ],
   "source": [
    "X_text.head(1)"
   ]
  },
  {
   "cell_type": "code",
   "execution_count": 26,
   "id": "da3a9cd5",
   "metadata": {},
   "outputs": [],
   "source": [
    "#vectorise text columns using tf-idf\n",
    "vectorize = TfidfVectorizer()\n",
    "tfidf_statement = vectorize.fit_transform(LIAR['statement'])\n",
    "tfidf_subjects = vectorize.fit_transform(LIAR['subjects'])\n",
    "tfidf_speaker = vectorize.fit_transform(LIAR['speaker'])\n",
    "tfidf_party_affiliation = vectorize.fit_transform(LIAR['party_affiliation'])\n",
    "tfidf_context = vectorize.fit_transform(LIAR['context'])"
   ]
  },
  {
   "cell_type": "code",
   "execution_count": 61,
   "id": "cbbc5200",
   "metadata": {},
   "outputs": [],
   "source": [
    "vocab_size = vectorize.get_feature_names_out()"
   ]
  },
  {
   "cell_type": "code",
   "execution_count": 62,
   "id": "ba743771",
   "metadata": {},
   "outputs": [
    {
     "data": {
      "text/plain": [
       "2290"
      ]
     },
     "execution_count": 62,
     "metadata": {},
     "output_type": "execute_result"
    }
   ],
   "source": [
    "len(vocab_size)"
   ]
  },
  {
   "cell_type": "code",
   "execution_count": 29,
   "id": "5c161c7a",
   "metadata": {
    "scrolled": true
   },
   "outputs": [],
   "source": [
    "#convert count columns to integer\n",
    "for column in X_num:\n",
    "    LIAR[column] = LIAR[column].apply(lambda x: int(x) if x != '' else 0)"
   ]
  },
  {
   "cell_type": "code",
   "execution_count": 30,
   "id": "fa759eca",
   "metadata": {
    "scrolled": true
   },
   "outputs": [
    {
     "data": {
      "text/plain": [
       "statement            object\n",
       "subjects             object\n",
       "speaker              object\n",
       "party_affiliation    object\n",
       "context              object\n",
       "count_1               int64\n",
       "count_2               int64\n",
       "count_3               int64\n",
       "count_4               int64\n",
       "count_5               int64\n",
       "label                 int64\n",
       "dtype: object"
      ]
     },
     "execution_count": 30,
     "metadata": {},
     "output_type": "execute_result"
    }
   ],
   "source": [
    "LIAR.dtypes"
   ]
  },
  {
   "cell_type": "code",
   "execution_count": 31,
   "id": "d4847b7d",
   "metadata": {
    "scrolled": false
   },
   "outputs": [],
   "source": [
    "X_num = LIAR.iloc[:, 5:10] \n",
    "\n",
    "num_scaler = StandardScaler()\n",
    "X_num_scaled = num_scaler.fit_transform(X_num)"
   ]
  },
  {
   "cell_type": "code",
   "execution_count": 32,
   "id": "c9e0efdf",
   "metadata": {},
   "outputs": [],
   "source": [
    "#concat the tf-idf matrices vertically\n",
    "tfidf_combined = hstack([tfidf_statement, tfidf_subjects, tfidf_speaker, tfidf_party_affiliation, tfidf_context])\n",
    "\n",
    "#concat tf-idf matrices and count columns\n",
    "X_comb = pd.concat(\n",
    "    [pd.DataFrame(tfidf_combined.toarray()),pd.DataFrame(X_num_scaled)],\n",
    "    axis=1\n",
    ")"
   ]
  },
  {
   "cell_type": "code",
   "execution_count": 33,
   "id": "9efa4561",
   "metadata": {
    "scrolled": true
   },
   "outputs": [
    {
     "data": {
      "text/plain": [
       "(12788, 18835)"
      ]
     },
     "execution_count": 33,
     "metadata": {},
     "output_type": "execute_result"
    }
   ],
   "source": [
    "tfidf_combined.shape"
   ]
  },
  {
   "cell_type": "code",
   "execution_count": 34,
   "id": "212285d3",
   "metadata": {},
   "outputs": [
    {
     "data": {
      "text/plain": [
       "(12788, 18840)"
      ]
     },
     "execution_count": 34,
     "metadata": {},
     "output_type": "execute_result"
    }
   ],
   "source": [
    "X_comb.shape"
   ]
  },
  {
   "cell_type": "code",
   "execution_count": 35,
   "id": "67b2734e",
   "metadata": {},
   "outputs": [],
   "source": [
    "X_train, X_test, y_train, y_test = train_test_split(X_comb, y, test_size=0.2, random_state=42)\n"
   ]
  },
  {
   "cell_type": "code",
   "execution_count": 36,
   "id": "1be65535",
   "metadata": {},
   "outputs": [
    {
     "data": {
      "text/plain": [
       "(10230, 18840)"
      ]
     },
     "execution_count": 36,
     "metadata": {},
     "output_type": "execute_result"
    }
   ],
   "source": [
    "X_train.shape"
   ]
  },
  {
   "cell_type": "code",
   "execution_count": 37,
   "id": "6e72ec05",
   "metadata": {},
   "outputs": [
    {
     "data": {
      "text/plain": [
       "(2558, 18840)"
      ]
     },
     "execution_count": 37,
     "metadata": {},
     "output_type": "execute_result"
    }
   ],
   "source": [
    "X_test.shape"
   ]
  },
  {
   "cell_type": "markdown",
   "id": "5adb7a4f",
   "metadata": {},
   "source": [
    "#### Random Forest"
   ]
  },
  {
   "cell_type": "code",
   "execution_count": 38,
   "id": "91a37a77",
   "metadata": {
    "scrolled": false
   },
   "outputs": [
    {
     "data": {
      "text/plain": [
       "0    7133\n",
       "1    5655\n",
       "Name: label, dtype: int64"
      ]
     },
     "execution_count": 38,
     "metadata": {},
     "output_type": "execute_result"
    }
   ],
   "source": [
    "y.value_counts()"
   ]
  },
  {
   "cell_type": "code",
   "execution_count": 39,
   "id": "bcd128cb",
   "metadata": {},
   "outputs": [
    {
     "data": {
      "text/plain": [
       "{0: 0.9053097345132743, 1: 1.1168122270742358}"
      ]
     },
     "execution_count": 39,
     "metadata": {},
     "output_type": "execute_result"
    }
   ],
   "source": [
    "#compute classweights to account for imbalanced dataset\n",
    "class_weights = class_weight.compute_class_weight(class_weight='balanced', classes=np.unique(y_train), y=y_train)\n",
    "class_weights = dict(zip(np.unique(y_train), class_weights))\n",
    "class_weights"
   ]
  },
  {
   "cell_type": "code",
   "execution_count": 40,
   "id": "04f8c60f",
   "metadata": {},
   "outputs": [
    {
     "data": {
      "text/html": [
       "<style>#sk-container-id-1 {color: black;}#sk-container-id-1 pre{padding: 0;}#sk-container-id-1 div.sk-toggleable {background-color: white;}#sk-container-id-1 label.sk-toggleable__label {cursor: pointer;display: block;width: 100%;margin-bottom: 0;padding: 0.3em;box-sizing: border-box;text-align: center;}#sk-container-id-1 label.sk-toggleable__label-arrow:before {content: \"▸\";float: left;margin-right: 0.25em;color: #696969;}#sk-container-id-1 label.sk-toggleable__label-arrow:hover:before {color: black;}#sk-container-id-1 div.sk-estimator:hover label.sk-toggleable__label-arrow:before {color: black;}#sk-container-id-1 div.sk-toggleable__content {max-height: 0;max-width: 0;overflow: hidden;text-align: left;background-color: #f0f8ff;}#sk-container-id-1 div.sk-toggleable__content pre {margin: 0.2em;color: black;border-radius: 0.25em;background-color: #f0f8ff;}#sk-container-id-1 input.sk-toggleable__control:checked~div.sk-toggleable__content {max-height: 200px;max-width: 100%;overflow: auto;}#sk-container-id-1 input.sk-toggleable__control:checked~label.sk-toggleable__label-arrow:before {content: \"▾\";}#sk-container-id-1 div.sk-estimator input.sk-toggleable__control:checked~label.sk-toggleable__label {background-color: #d4ebff;}#sk-container-id-1 div.sk-label input.sk-toggleable__control:checked~label.sk-toggleable__label {background-color: #d4ebff;}#sk-container-id-1 input.sk-hidden--visually {border: 0;clip: rect(1px 1px 1px 1px);clip: rect(1px, 1px, 1px, 1px);height: 1px;margin: -1px;overflow: hidden;padding: 0;position: absolute;width: 1px;}#sk-container-id-1 div.sk-estimator {font-family: monospace;background-color: #f0f8ff;border: 1px dotted black;border-radius: 0.25em;box-sizing: border-box;margin-bottom: 0.5em;}#sk-container-id-1 div.sk-estimator:hover {background-color: #d4ebff;}#sk-container-id-1 div.sk-parallel-item::after {content: \"\";width: 100%;border-bottom: 1px solid gray;flex-grow: 1;}#sk-container-id-1 div.sk-label:hover label.sk-toggleable__label {background-color: #d4ebff;}#sk-container-id-1 div.sk-serial::before {content: \"\";position: absolute;border-left: 1px solid gray;box-sizing: border-box;top: 0;bottom: 0;left: 50%;z-index: 0;}#sk-container-id-1 div.sk-serial {display: flex;flex-direction: column;align-items: center;background-color: white;padding-right: 0.2em;padding-left: 0.2em;position: relative;}#sk-container-id-1 div.sk-item {position: relative;z-index: 1;}#sk-container-id-1 div.sk-parallel {display: flex;align-items: stretch;justify-content: center;background-color: white;position: relative;}#sk-container-id-1 div.sk-item::before, #sk-container-id-1 div.sk-parallel-item::before {content: \"\";position: absolute;border-left: 1px solid gray;box-sizing: border-box;top: 0;bottom: 0;left: 50%;z-index: -1;}#sk-container-id-1 div.sk-parallel-item {display: flex;flex-direction: column;z-index: 1;position: relative;background-color: white;}#sk-container-id-1 div.sk-parallel-item:first-child::after {align-self: flex-end;width: 50%;}#sk-container-id-1 div.sk-parallel-item:last-child::after {align-self: flex-start;width: 50%;}#sk-container-id-1 div.sk-parallel-item:only-child::after {width: 0;}#sk-container-id-1 div.sk-dashed-wrapped {border: 1px dashed gray;margin: 0 0.4em 0.5em 0.4em;box-sizing: border-box;padding-bottom: 0.4em;background-color: white;}#sk-container-id-1 div.sk-label label {font-family: monospace;font-weight: bold;display: inline-block;line-height: 1.2em;}#sk-container-id-1 div.sk-label-container {text-align: center;}#sk-container-id-1 div.sk-container {/* jupyter's `normalize.less` sets `[hidden] { display: none; }` but bootstrap.min.css set `[hidden] { display: none !important; }` so we also need the `!important` here to be able to override the default hidden behavior on the sphinx rendered scikit-learn.org. See: https://github.com/scikit-learn/scikit-learn/issues/21755 */display: inline-block !important;position: relative;}#sk-container-id-1 div.sk-text-repr-fallback {display: none;}</style><div id=\"sk-container-id-1\" class=\"sk-top-container\"><div class=\"sk-text-repr-fallback\"><pre>RandomForestClassifier(class_weight={0: 0.9053097345132743,\n",
       "                                     1: 1.1168122270742358},\n",
       "                       random_state=0)</pre><b>In a Jupyter environment, please rerun this cell to show the HTML representation or trust the notebook. <br />On GitHub, the HTML representation is unable to render, please try loading this page with nbviewer.org.</b></div><div class=\"sk-container\" hidden><div class=\"sk-item\"><div class=\"sk-estimator sk-toggleable\"><input class=\"sk-toggleable__control sk-hidden--visually\" id=\"sk-estimator-id-1\" type=\"checkbox\" checked><label for=\"sk-estimator-id-1\" class=\"sk-toggleable__label sk-toggleable__label-arrow\">RandomForestClassifier</label><div class=\"sk-toggleable__content\"><pre>RandomForestClassifier(class_weight={0: 0.9053097345132743,\n",
       "                                     1: 1.1168122270742358},\n",
       "                       random_state=0)</pre></div></div></div></div></div>"
      ],
      "text/plain": [
       "RandomForestClassifier(class_weight={0: 0.9053097345132743,\n",
       "                                     1: 1.1168122270742358},\n",
       "                       random_state=0)"
      ]
     },
     "execution_count": 40,
     "metadata": {},
     "output_type": "execute_result"
    }
   ],
   "source": [
    "RFC = RandomForestClassifier(class_weight=class_weights, random_state=0)\n",
    "\n",
    "RFC.fit(X_train,y_train)"
   ]
  },
  {
   "cell_type": "code",
   "execution_count": 41,
   "id": "d803008a",
   "metadata": {
    "scrolled": true
   },
   "outputs": [],
   "source": [
    "#test RFC model\n",
    "rfc_threshold = 0.47\n",
    "\n",
    "y_pred = RFC.predict_proba(X_test)\n",
    "predicted = (y_pred [:,1] >= rfc_threshold).astype('int')"
   ]
  },
  {
   "cell_type": "code",
   "execution_count": 42,
   "id": "91d0cf1a",
   "metadata": {},
   "outputs": [
    {
     "name": "stdout",
     "output_type": "stream",
     "text": [
      "              precision    recall  f1-score   support\n",
      "\n",
      "           0       0.76      0.75      0.76      1483\n",
      "           1       0.66      0.67      0.67      1075\n",
      "\n",
      "    accuracy                           0.72      2558\n",
      "   macro avg       0.71      0.71      0.71      2558\n",
      "weighted avg       0.72      0.72      0.72      2558\n",
      "\n"
     ]
    }
   ],
   "source": [
    "#RFC evaluation statistics\n",
    "print(classification_report(y_test, predicted))"
   ]
  },
  {
   "cell_type": "code",
   "execution_count": 43,
   "id": "0b09767d",
   "metadata": {
    "scrolled": false
   },
   "outputs": [
    {
     "data": {
      "image/png": "[encoded data removed]",
      "text/plain": [
       "<Figure size 432x288 with 2 Axes>"
      ]
     },
     "metadata": {
      "needs_background": "light"
     },
     "output_type": "display_data"
    }
   ],
   "source": [
    "#plot RFC confusion matrix\n",
    "confmat = metrics.confusion_matrix(y_test, predicted)\n",
    "\n",
    "cm_display = metrics.ConfusionMatrixDisplay(confusion_matrix = confmat, display_labels = [False, True])\n",
    "\n",
    "cm_display.plot()\n",
    "plt.show()"
   ]
  },
  {
   "cell_type": "markdown",
   "id": "cbc4390c",
   "metadata": {},
   "source": [
    "#### Gradient Boosting Classifier"
   ]
  },
  {
   "cell_type": "code",
   "execution_count": 44,
   "id": "307d118c",
   "metadata": {
    "scrolled": true
   },
   "outputs": [
    {
     "data": {
      "text/html": [
       "<style>#sk-container-id-2 {color: black;}#sk-container-id-2 pre{padding: 0;}#sk-container-id-2 div.sk-toggleable {background-color: white;}#sk-container-id-2 label.sk-toggleable__label {cursor: pointer;display: block;width: 100%;margin-bottom: 0;padding: 0.3em;box-sizing: border-box;text-align: center;}#sk-container-id-2 label.sk-toggleable__label-arrow:before {content: \"▸\";float: left;margin-right: 0.25em;color: #696969;}#sk-container-id-2 label.sk-toggleable__label-arrow:hover:before {color: black;}#sk-container-id-2 div.sk-estimator:hover label.sk-toggleable__label-arrow:before {color: black;}#sk-container-id-2 div.sk-toggleable__content {max-height: 0;max-width: 0;overflow: hidden;text-align: left;background-color: #f0f8ff;}#sk-container-id-2 div.sk-toggleable__content pre {margin: 0.2em;color: black;border-radius: 0.25em;background-color: #f0f8ff;}#sk-container-id-2 input.sk-toggleable__control:checked~div.sk-toggleable__content {max-height: 200px;max-width: 100%;overflow: auto;}#sk-container-id-2 input.sk-toggleable__control:checked~label.sk-toggleable__label-arrow:before {content: \"▾\";}#sk-container-id-2 div.sk-estimator input.sk-toggleable__control:checked~label.sk-toggleable__label {background-color: #d4ebff;}#sk-container-id-2 div.sk-label input.sk-toggleable__control:checked~label.sk-toggleable__label {background-color: #d4ebff;}#sk-container-id-2 input.sk-hidden--visually {border: 0;clip: rect(1px 1px 1px 1px);clip: rect(1px, 1px, 1px, 1px);height: 1px;margin: -1px;overflow: hidden;padding: 0;position: absolute;width: 1px;}#sk-container-id-2 div.sk-estimator {font-family: monospace;background-color: #f0f8ff;border: 1px dotted black;border-radius: 0.25em;box-sizing: border-box;margin-bottom: 0.5em;}#sk-container-id-2 div.sk-estimator:hover {background-color: #d4ebff;}#sk-container-id-2 div.sk-parallel-item::after {content: \"\";width: 100%;border-bottom: 1px solid gray;flex-grow: 1;}#sk-container-id-2 div.sk-label:hover label.sk-toggleable__label {background-color: #d4ebff;}#sk-container-id-2 div.sk-serial::before {content: \"\";position: absolute;border-left: 1px solid gray;box-sizing: border-box;top: 0;bottom: 0;left: 50%;z-index: 0;}#sk-container-id-2 div.sk-serial {display: flex;flex-direction: column;align-items: center;background-color: white;padding-right: 0.2em;padding-left: 0.2em;position: relative;}#sk-container-id-2 div.sk-item {position: relative;z-index: 1;}#sk-container-id-2 div.sk-parallel {display: flex;align-items: stretch;justify-content: center;background-color: white;position: relative;}#sk-container-id-2 div.sk-item::before, #sk-container-id-2 div.sk-parallel-item::before {content: \"\";position: absolute;border-left: 1px solid gray;box-sizing: border-box;top: 0;bottom: 0;left: 50%;z-index: -1;}#sk-container-id-2 div.sk-parallel-item {display: flex;flex-direction: column;z-index: 1;position: relative;background-color: white;}#sk-container-id-2 div.sk-parallel-item:first-child::after {align-self: flex-end;width: 50%;}#sk-container-id-2 div.sk-parallel-item:last-child::after {align-self: flex-start;width: 50%;}#sk-container-id-2 div.sk-parallel-item:only-child::after {width: 0;}#sk-container-id-2 div.sk-dashed-wrapped {border: 1px dashed gray;margin: 0 0.4em 0.5em 0.4em;box-sizing: border-box;padding-bottom: 0.4em;background-color: white;}#sk-container-id-2 div.sk-label label {font-family: monospace;font-weight: bold;display: inline-block;line-height: 1.2em;}#sk-container-id-2 div.sk-label-container {text-align: center;}#sk-container-id-2 div.sk-container {/* jupyter's `normalize.less` sets `[hidden] { display: none; }` but bootstrap.min.css set `[hidden] { display: none !important; }` so we also need the `!important` here to be able to override the default hidden behavior on the sphinx rendered scikit-learn.org. See: https://github.com/scikit-learn/scikit-learn/issues/21755 */display: inline-block !important;position: relative;}#sk-container-id-2 div.sk-text-repr-fallback {display: none;}</style><div id=\"sk-container-id-2\" class=\"sk-top-container\"><div class=\"sk-text-repr-fallback\"><pre>GradientBoostingClassifier(random_state=0)</pre><b>In a Jupyter environment, please rerun this cell to show the HTML representation or trust the notebook. <br />On GitHub, the HTML representation is unable to render, please try loading this page with nbviewer.org.</b></div><div class=\"sk-container\" hidden><div class=\"sk-item\"><div class=\"sk-estimator sk-toggleable\"><input class=\"sk-toggleable__control sk-hidden--visually\" id=\"sk-estimator-id-2\" type=\"checkbox\" checked><label for=\"sk-estimator-id-2\" class=\"sk-toggleable__label sk-toggleable__label-arrow\">GradientBoostingClassifier</label><div class=\"sk-toggleable__content\"><pre>GradientBoostingClassifier(random_state=0)</pre></div></div></div></div></div>"
      ],
      "text/plain": [
       "GradientBoostingClassifier(random_state=0)"
      ]
     },
     "execution_count": 44,
     "metadata": {},
     "output_type": "execute_result"
    }
   ],
   "source": [
    "GBC = GradientBoostingClassifier(random_state=0)\n",
    "GBC.fit(X_train, y_train)"
   ]
  },
  {
   "cell_type": "code",
   "execution_count": 45,
   "id": "7fa4af4b",
   "metadata": {},
   "outputs": [],
   "source": [
    "#test GBC model\n",
    "GBC_threshold = 0.47\n",
    "\n",
    "GBC_pred = GBC.predict_proba(X_test)\n",
    "GBC_predicted = (GBC_pred [:,1] >= GBC_threshold).astype('int')"
   ]
  },
  {
   "cell_type": "code",
   "execution_count": 46,
   "id": "22fd44f5",
   "metadata": {
    "scrolled": false
   },
   "outputs": [
    {
     "name": "stdout",
     "output_type": "stream",
     "text": [
      "              precision    recall  f1-score   support\n",
      "\n",
      "           0       0.76      0.76      0.76      1483\n",
      "           1       0.66      0.66      0.66      1075\n",
      "\n",
      "    accuracy                           0.72      2558\n",
      "   macro avg       0.71      0.71      0.71      2558\n",
      "weighted avg       0.72      0.72      0.72      2558\n",
      "\n"
     ]
    }
   ],
   "source": [
    "#GBC evaluation statistics\n",
    "print(classification_report(y_test, GBC_predicted))"
   ]
  },
  {
   "cell_type": "code",
   "execution_count": 47,
   "id": "40da5571",
   "metadata": {
    "scrolled": true
   },
   "outputs": [
    {
     "data": {
      "image/png": "[encoded data removed]",
      "text/plain": [
       "<Figure size 432x288 with 2 Axes>"
      ]
     },
     "metadata": {
      "needs_background": "light"
     },
     "output_type": "display_data"
    }
   ],
   "source": [
    "#plot GBC confusion matrix\n",
    "confmat = metrics.confusion_matrix(y_test, GBC_predicted)\n",
    "\n",
    "cm_display = metrics.ConfusionMatrixDisplay(confusion_matrix = confmat, display_labels = [False, True])\n",
    "\n",
    "cm_display.plot()\n",
    "plt.show()"
   ]
  },
  {
   "cell_type": "markdown",
   "id": "1900c2a0",
   "metadata": {},
   "source": [
    "#### Deep Learning Approaches"
   ]
  },
  {
   "cell_type": "code",
   "execution_count": 48,
   "id": "458e7500",
   "metadata": {},
   "outputs": [],
   "source": [
    "#convert to dense array in preparation for training\n",
    "X_train = X_train.values"
   ]
  },
  {
   "cell_type": "code",
   "execution_count": 49,
   "id": "4f3aa71d",
   "metadata": {
    "scrolled": true
   },
   "outputs": [
    {
     "data": {
      "text/plain": [
       "18840"
      ]
     },
     "execution_count": 49,
     "metadata": {},
     "output_type": "execute_result"
    }
   ],
   "source": [
    "len(X_train[0])"
   ]
  },
  {
   "cell_type": "code",
   "execution_count": 50,
   "id": "a4d21c59",
   "metadata": {},
   "outputs": [
    {
     "data": {
      "text/plain": [
       "pandas.core.series.Series"
      ]
     },
     "execution_count": 50,
     "metadata": {},
     "output_type": "execute_result"
    }
   ],
   "source": [
    "type(y_train)"
   ]
  },
  {
   "cell_type": "code",
   "execution_count": 51,
   "id": "497ebe5a",
   "metadata": {},
   "outputs": [
    {
     "name": "stdout",
     "output_type": "stream",
     "text": [
      "Number of samples match.\n"
     ]
    }
   ],
   "source": [
    "#ensure data is in correct format and structure\n",
    "num_samples_x_train = X_train.shape[0]\n",
    "num_samples_y_train = len(y_train)\n",
    "\n",
    "if num_samples_x_train == num_samples_y_train:\n",
    "    print(\"Number of samples match.\")\n",
    "else:\n",
    "    print(\"Number of samples do not match.\")"
   ]
  },
  {
   "cell_type": "code",
   "execution_count": 52,
   "id": "3f7a5083",
   "metadata": {},
   "outputs": [
    {
     "name": "stdout",
     "output_type": "stream",
     "text": [
      "Label data type is appropriate.\n"
     ]
    }
   ],
   "source": [
    "label_data_type = y_train.dtype\n",
    "\n",
    "if label_data_type == int or label_data_type == bool:\n",
    "    print(\"Label data type is appropriate.\")\n",
    "else:\n",
    "    print(\"Label data type is not appropriate.\")\n"
   ]
  },
  {
   "cell_type": "code",
   "execution_count": 53,
   "id": "050d5194",
   "metadata": {
    "scrolled": true
   },
   "outputs": [
    {
     "name": "stdout",
     "output_type": "stream",
     "text": [
      "Sample 0: Label = 0    1\n",
      "0    1\n",
      "Name: label, dtype: int64, Data Shape = (18840,)\n",
      "Sample 1: Label = 1    1\n",
      "1    0\n",
      "1    1\n",
      "Name: label, dtype: int64, Data Shape = (18840,)\n",
      "Sample 2: Label = 2    0\n",
      "2    1\n",
      "2    0\n",
      "Name: label, dtype: int64, Data Shape = (18840,)\n",
      "Sample 3: Label = 0, Data Shape = (18840,)\n",
      "Sample 4: Label = 4    1\n",
      "4    0\n",
      "4    0\n",
      "Name: label, dtype: int64, Data Shape = (18840,)\n"
     ]
    }
   ],
   "source": [
    "for i in range(min(5, num_samples_x_train)):  # Print the first 5 samples\n",
    "    print(f\"Sample {i}: Label = {y_train[i]}, Data Shape = {X_train[i].shape}\")"
   ]
  },
  {
   "cell_type": "code",
   "execution_count": 54,
   "id": "2a60cc18",
   "metadata": {},
   "outputs": [
    {
     "data": {
      "text/plain": [
       "18840"
      ]
     },
     "execution_count": 54,
     "metadata": {},
     "output_type": "execute_result"
    }
   ],
   "source": [
    "X_train.shape[1]"
   ]
  },
  {
   "cell_type": "code",
   "execution_count": 74,
   "id": "4e34987f",
   "metadata": {
    "scrolled": false
   },
   "outputs": [
    {
     "name": "stdout",
     "output_type": "stream",
     "text": [
      "Model: \"sequential_3\"\n",
      "_________________________________________________________________\n",
      " Layer (type)                Output Shape              Param #   \n",
      "=================================================================\n",
      " embedding_2 (Embedding)     (None, 18840, 128)        2411520   \n",
      "                                                                 \n",
      " lstm_1 (LSTM)               (None, 128)               131584    \n",
      "                                                                 \n",
      " dense_7 (Dense)             (None, 1)                 129       \n",
      "                                                                 \n",
      "=================================================================\n",
      "Total params: 2543233 (9.70 MB)\n",
      "Trainable params: 2543233 (9.70 MB)\n",
      "Non-trainable params: 0 (0.00 Byte)\n",
      "_________________________________________________________________\n",
      "Epoch 1/10\n",
      "128/128 [==============================] - 523s 4s/step - loss: 0.6836 - accuracy: 0.5661 - val_loss: 0.6718 - val_accuracy: 0.5855\n",
      "Epoch 2/10\n",
      "128/128 [==============================] - 542s 4s/step - loss: 0.6725 - accuracy: 0.5830 - val_loss: 0.6673 - val_accuracy: 0.5885\n",
      "Epoch 3/10\n",
      "128/128 [==============================] - 2838s 22s/step - loss: 0.6707 - accuracy: 0.5835 - val_loss: 0.6663 - val_accuracy: 0.5885\n",
      "Epoch 4/10\n",
      "128/128 [==============================] - 2757s 22s/step - loss: 0.6703 - accuracy: 0.5835 - val_loss: 0.6663 - val_accuracy: 0.5885\n",
      "Epoch 5/10\n",
      "128/128 [==============================] - 2595s 20s/step - loss: 0.6705 - accuracy: 0.5835 - val_loss: 0.6668 - val_accuracy: 0.5885\n",
      "Epoch 6/10\n",
      "128/128 [==============================] - 537s 4s/step - loss: 0.6705 - accuracy: 0.5835 - val_loss: 0.6667 - val_accuracy: 0.5885\n",
      "Epoch 7/10\n",
      "128/128 [==============================] - 537s 4s/step - loss: 0.6700 - accuracy: 0.5835 - val_loss: 0.6666 - val_accuracy: 0.5885\n",
      "Epoch 8/10\n",
      "128/128 [==============================] - 536s 4s/step - loss: 0.6700 - accuracy: 0.5835 - val_loss: 0.6669 - val_accuracy: 0.5885\n"
     ]
    }
   ],
   "source": [
    "#define LSTM model\n",
    "lstm_model = Sequential()\n",
    "\n",
    "lstm_model.add(Embedding(input_dim=X_train.shape[1], output_dim=128, input_length=X_train.shape[1]))\n",
    "lstm_model.add(LSTM(units=128))\n",
    "lstm_model.add(Dense(units=1, activation='sigmoid'))\n",
    "lstm_model.compile(optimizer='adam', loss='binary_crossentropy', metrics=['accuracy'])\n",
    "\n",
    "#model summary\n",
    "lstm_model.summary()\n",
    "\n",
    "#early stopping\n",
    "early_stopping = EarlyStopping(monitor='val_loss', patience=5, restore_best_weights=True)\n",
    "\n",
    "#train LSTM model\n",
    "lstm_history = lstm_model.fit(X_train, y_train, batch_size=64, epochs=10, validation_split=0.2, callbacks=[early_stopping])\n"
   ]
  },
  {
   "cell_type": "code",
   "execution_count": 75,
   "id": "4d047bf1",
   "metadata": {},
   "outputs": [
    {
     "name": "stdout",
     "output_type": "stream",
     "text": [
      "80/80 [==============================] - 40s 498ms/step - loss: 0.6670 - accuracy: 0.5973\n",
      "Test Loss: 0.6669794917106628\n",
      "Test Accuracy: 0.5973416566848755\n"
     ]
    }
   ],
   "source": [
    "#evaluate LSTM on testing data\n",
    "loss, accuracy = lstm_model.evaluate(X_test, y_test)\n",
    "print(\"Test Loss:\", loss)\n",
    "print(\"Test Accuracy:\", accuracy)"
   ]
  },
  {
   "cell_type": "code",
   "execution_count": 76,
   "id": "da6232f5",
   "metadata": {
    "scrolled": true
   },
   "outputs": [
    {
     "name": "stdout",
     "output_type": "stream",
     "text": [
      "80/80 [==============================] - 41s 517ms/step\n",
      "Precision: 0.6956521739130435\n",
      "Recall: 0.07441860465116279\n",
      "F1-Score: 0.13445378151260504\n"
     ]
    }
   ],
   "source": [
    "lstm_pred = lstm_model.predict(X_test)\n",
    "lstm_pred_binary = np.round(lstm_pred)\n",
    "\n",
    "#calculate and print LSTM evaluation metrics\n",
    "precision = precision_score(y_test, lstm_pred_binary)\n",
    "recall = recall_score(y_test, lstm_pred_binary)\n",
    "f1 = f1_score(y_test, lstm_pred_binary)\n",
    "\n",
    "print(\"Precision:\", precision)\n",
    "print(\"Recall:\", recall)\n",
    "print(\"F1-Score:\", f1)"
   ]
  },
  {
   "cell_type": "code",
   "execution_count": 77,
   "id": "a5c92002",
   "metadata": {},
   "outputs": [],
   "source": [
    "#plot training cycles to ensure model is not overfitted \n",
    "lstm_history_dict = lstm_history.history\n",
    "lstm_loss_values = lstm_history_dict['loss']\n",
    "lstm_val_loss_values = lstm_history_dict['val_loss']\n",
    "\n",
    "lstm_epoch = range(1,len(lstm_history_dict['accuracy'])+1)"
   ]
  },
  {
   "cell_type": "code",
   "execution_count": 78,
   "id": "3258bf66",
   "metadata": {
    "scrolled": false
   },
   "outputs": [
    {
     "data": {
      "text/plain": [
       "<matplotlib.legend.Legend at 0x35cb62a30>"
      ]
     },
     "execution_count": 78,
     "metadata": {},
     "output_type": "execute_result"
    },
    {
     "data": {
      "image/png": "[encoded data removed]",
      "text/plain": [
       "<Figure size 432x288 with 1 Axes>"
      ]
     },
     "metadata": {
      "needs_background": "light"
     },
     "output_type": "display_data"
    }
   ],
   "source": [
    "plt.plot(lstm_epoch,lstm_loss_values,'bo',label='Training loss')\n",
    "plt.plot(lstm_epoch,lstm_val_loss_values,'b',label='Validation loss')\n",
    "plt.title('Training and validation loss')\n",
    "plt.xlabel('Epochs')\n",
    "plt.ylabel('Loss')\n",
    "plt.legend()"
   ]
  },
  {
   "cell_type": "code",
   "execution_count": 63,
   "id": "9a352abe",
   "metadata": {
    "scrolled": true
   },
   "outputs": [
    {
     "name": "stdout",
     "output_type": "stream",
     "text": [
      "Epoch 1/10\n",
      "256/256 [==============================] - 121s 467ms/step - loss: 0.6863 - accuracy: 0.5601 - val_loss: 0.6828 - val_accuracy: 0.5650\n",
      "Epoch 2/10\n",
      "256/256 [==============================] - 117s 459ms/step - loss: 0.6810 - accuracy: 0.5721 - val_loss: 0.6767 - val_accuracy: 0.5792\n",
      "Epoch 3/10\n",
      "256/256 [==============================] - 117s 458ms/step - loss: 0.6770 - accuracy: 0.5728 - val_loss: 0.6731 - val_accuracy: 0.5792\n",
      "Epoch 4/10\n",
      "256/256 [==============================] - 117s 458ms/step - loss: 0.6742 - accuracy: 0.5707 - val_loss: 0.6693 - val_accuracy: 0.5802\n",
      "Epoch 5/10\n",
      "256/256 [==============================] - 118s 462ms/step - loss: 0.6725 - accuracy: 0.5753 - val_loss: 0.6669 - val_accuracy: 0.5875\n",
      "Epoch 6/10\n",
      "256/256 [==============================] - 119s 465ms/step - loss: 0.6711 - accuracy: 0.5765 - val_loss: 0.6660 - val_accuracy: 0.5875\n",
      "Epoch 7/10\n",
      "256/256 [==============================] - 119s 467ms/step - loss: 0.6703 - accuracy: 0.5827 - val_loss: 0.6646 - val_accuracy: 0.5875\n",
      "Epoch 8/10\n",
      "256/256 [==============================] - 120s 467ms/step - loss: 0.6699 - accuracy: 0.5733 - val_loss: 0.6658 - val_accuracy: 0.5924\n",
      "Epoch 9/10\n",
      "256/256 [==============================] - 120s 469ms/step - loss: 0.6688 - accuracy: 0.5755 - val_loss: 0.6642 - val_accuracy: 0.5875\n",
      "Epoch 10/10\n",
      "256/256 [==============================] - 122s 477ms/step - loss: 0.6692 - accuracy: 0.5788 - val_loss: 0.6633 - val_accuracy: 0.5855\n"
     ]
    }
   ],
   "source": [
    "input_shape = X_train.shape[1]\n",
    "\n",
    "#define CNN model\n",
    "def build_cnn_model(input_shape, vocab_size):\n",
    "    model = keras.Sequential([\n",
    "        layers.Input(shape=input_shape),\n",
    "        layers.Embedding(input_dim=X_train.shape[1], output_dim=128, input_length=X_train.shape[1]),\n",
    "        layers.Conv1D(64, kernel_size=5, activation='relu', padding='same'),\n",
    "        layers.MaxPooling1D(2),\n",
    "        layers.Conv1D(32, kernel_size=3, activation='relu'),\n",
    "        layers.GlobalMaxPooling1D(),\n",
    "        layers.Dense(128, activation='relu'),\n",
    "        layers.Dropout(0.),\n",
    "        layers.Dense(1, activation='sigmoid')\n",
    "    ])\n",
    "    \n",
    "    return model\n",
    "\n",
    "cnn_model = build_cnn_model(input_shape, vocab_size)\n",
    "optimizer = tf.keras.optimizers.legacy.RMSprop(learning_rate=0.0001)\n",
    "cnn_model.compile(optimizer=optimizer, loss='binary_crossentropy', metrics=['accuracy'])\n",
    "\n",
    "#early stopping\n",
    "early_stopping = EarlyStopping(monitor='val_loss', patience=5, restore_best_weights=True)\n",
    "\n",
    "#train CNN model\n",
    "cnn_history = cnn_model.fit(X_train, y_train, epochs=10, batch_size=32, validation_split=0.2, callbacks=[early_stopping])"
   ]
  },
  {
   "cell_type": "code",
   "execution_count": 64,
   "id": "190c0bb0",
   "metadata": {},
   "outputs": [
    {
     "name": "stdout",
     "output_type": "stream",
     "text": [
      "Model: \"sequential_1\"\n",
      "_________________________________________________________________\n",
      " Layer (type)                Output Shape              Param #   \n",
      "=================================================================\n",
      " embedding_1 (Embedding)     (None, 18840, 128)        2411520   \n",
      "                                                                 \n",
      " conv1d (Conv1D)             (None, 18840, 64)         41024     \n",
      "                                                                 \n",
      " max_pooling1d (MaxPooling1  (None, 9420, 64)          0         \n",
      " D)                                                              \n",
      "                                                                 \n",
      " conv1d_1 (Conv1D)           (None, 9418, 32)          6176      \n",
      "                                                                 \n",
      " global_max_pooling1d (Glob  (None, 32)                0         \n",
      " alMaxPooling1D)                                                 \n",
      "                                                                 \n",
      " dense_1 (Dense)             (None, 128)               4224      \n",
      "                                                                 \n",
      " dropout (Dropout)           (None, 128)               0         \n",
      "                                                                 \n",
      " dense_2 (Dense)             (None, 1)                 129       \n",
      "                                                                 \n",
      "=================================================================\n",
      "Total params: 2463073 (9.40 MB)\n",
      "Trainable params: 2463073 (9.40 MB)\n",
      "Non-trainable params: 0 (0.00 Byte)\n",
      "_________________________________________________________________\n"
     ]
    }
   ],
   "source": [
    "cnn_model.summary()"
   ]
  },
  {
   "cell_type": "code",
   "execution_count": 65,
   "id": "90670005",
   "metadata": {
    "scrolled": true
   },
   "outputs": [
    {
     "name": "stdout",
     "output_type": "stream",
     "text": [
      "80/80 [==============================] - 3s 35ms/step - loss: 0.6631 - accuracy: 0.5962\n",
      "Test Loss: 0.6630975604057312\n",
      "Test Accuracy: 0.5961688756942749\n"
     ]
    }
   ],
   "source": [
    "#evaluate CNN on testing data\n",
    "loss, accuracy = cnn_model.evaluate(X_test, y_test)\n",
    "print(\"Test Loss:\", loss)\n",
    "print(\"Test Accuracy:\", accuracy)"
   ]
  },
  {
   "cell_type": "code",
   "execution_count": 66,
   "id": "a0e3f2db",
   "metadata": {},
   "outputs": [
    {
     "name": "stdout",
     "output_type": "stream",
     "text": [
      "80/80 [==============================] - 3s 32ms/step\n",
      "Precision: 0.723404255319149\n",
      "Recall: 0.06325581395348837\n",
      "F1-Score: 0.11633875106928998\n"
     ]
    }
   ],
   "source": [
    "cnn_pred = cnn_model.predict(X_test)\n",
    "cnn_pred_binary = np.round(cnn_pred)\n",
    "\n",
    "#calculate and print LSTM evaluation metrics\n",
    "cnn_precision = precision_score(y_test, cnn_pred_binary)\n",
    "cnn_recall = recall_score(y_test, cnn_pred_binary)\n",
    "cnn_f1 = f1_score(y_test, cnn_pred_binary)\n",
    "\n",
    "print(\"Precision:\", cnn_precision)\n",
    "print(\"Recall:\", cnn_recall)\n",
    "print(\"F1-Score:\", cnn_f1)"
   ]
  },
  {
   "cell_type": "code",
   "execution_count": 67,
   "id": "40c334b7",
   "metadata": {},
   "outputs": [],
   "source": [
    "#plot training cycles to ensure model is not overfitted \n",
    "cnn_history_dict = cnn_history.history\n",
    "cnn_loss_values = cnn_history_dict['loss']\n",
    "cnn_val_loss_values = cnn_history_dict['val_loss']\n",
    "\n",
    "cnn_epoch = range(1,len(cnn_history_dict['accuracy'])+1)"
   ]
  },
  {
   "cell_type": "code",
   "execution_count": 68,
   "id": "982b42dc",
   "metadata": {},
   "outputs": [
    {
     "data": {
      "text/plain": [
       "<matplotlib.legend.Legend at 0x29a64b5e0>"
      ]
     },
     "execution_count": 68,
     "metadata": {},
     "output_type": "execute_result"
    },
    {
     "data": {
      "image/png": "[encoded data removed]",
      "text/plain": [
       "<Figure size 432x288 with 1 Axes>"
      ]
     },
     "metadata": {
      "needs_background": "light"
     },
     "output_type": "display_data"
    }
   ],
   "source": [
    "plt.plot(cnn_epoch,cnn_loss_values,'bo',label='Training loss')\n",
    "plt.plot(cnn_epoch,cnn_val_loss_values,'b',label='Validation loss')\n",
    "plt.title('Training and validation loss')\n",
    "plt.xlabel('Epochs')\n",
    "plt.ylabel('Loss')\n",
    "plt.legend()"
   ]
  },
  {
   "cell_type": "code",
   "execution_count": 69,
   "id": "4b42effb",
   "metadata": {
    "scrolled": true
   },
   "outputs": [
    {
     "name": "stdout",
     "output_type": "stream",
     "text": [
      "Model: \"sequential_2\"\n",
      "_________________________________________________________________\n",
      " Layer (type)                Output Shape              Param #   \n",
      "=================================================================\n",
      " dense_3 (Dense)             (None, 128)               2411648   \n",
      "                                                                 \n",
      " dropout_1 (Dropout)         (None, 128)               0         \n",
      "                                                                 \n",
      " dense_4 (Dense)             (None, 64)                8256      \n",
      "                                                                 \n",
      " dropout_2 (Dropout)         (None, 64)                0         \n",
      "                                                                 \n",
      " dense_5 (Dense)             (None, 32)                2080      \n",
      "                                                                 \n",
      " dropout_3 (Dropout)         (None, 32)                0         \n",
      "                                                                 \n",
      " dense_6 (Dense)             (None, 1)                 33        \n",
      "                                                                 \n",
      "=================================================================\n",
      "Total params: 2422017 (9.24 MB)\n",
      "Trainable params: 2422017 (9.24 MB)\n",
      "Non-trainable params: 0 (0.00 Byte)\n",
      "_________________________________________________________________\n",
      "Epoch 1/10\n",
      "256/256 [==============================] - 4s 12ms/step - loss: 0.6571 - accuracy: 0.6070 - val_loss: 0.6303 - val_accuracy: 0.6413\n",
      "Epoch 2/10\n",
      "256/256 [==============================] - 3s 10ms/step - loss: 0.5946 - accuracy: 0.6994 - val_loss: 0.6580 - val_accuracy: 0.6427\n",
      "Epoch 3/10\n",
      "256/256 [==============================] - 3s 10ms/step - loss: 0.5796 - accuracy: 0.7681 - val_loss: 0.7217 - val_accuracy: 0.6251\n",
      "Epoch 4/10\n",
      "256/256 [==============================] - 3s 10ms/step - loss: 0.7599 - accuracy: 0.7759 - val_loss: 1.0403 - val_accuracy: 0.6217\n",
      "Epoch 5/10\n",
      "256/256 [==============================] - 3s 11ms/step - loss: 1.4245 - accuracy: 0.7609 - val_loss: 1.5778 - val_accuracy: 0.5626\n",
      "Epoch 6/10\n",
      "256/256 [==============================] - 3s 10ms/step - loss: 1.9520 - accuracy: 0.7472 - val_loss: 2.8144 - val_accuracy: 0.6178\n"
     ]
    }
   ],
   "source": [
    "#define DNN model\n",
    "model = Sequential()\n",
    "model.add(Dense(128, input_dim=18840, activation='relu'))\n",
    "model.add(Dropout(0.2))  # Dropout for regularization\n",
    "model.add(Dense(64, activation='relu'))\n",
    "model.add(Dropout(0.2))\n",
    "model.add(Dense(32, activation='relu'))\n",
    "model.add(Dropout(0.2))\n",
    "model.add(Dense(1, activation='sigmoid'))\n",
    "\n",
    "model.compile(loss='binary_crossentropy', optimizer='adam', metrics=['accuracy'])\n",
    "\n",
    "#early stopping\n",
    "early_stopping = EarlyStopping(monitor='val_loss', patience=5, restore_best_weights=True)\n",
    "\n",
    "model.summary()\n",
    "\n",
    "#train DNN model\n",
    "model_history = model.fit(X_train, y_train, epochs=10, batch_size=32, validation_split=0.2, callbacks=[early_stopping])"
   ]
  },
  {
   "cell_type": "code",
   "execution_count": 70,
   "id": "20fbefd7",
   "metadata": {},
   "outputs": [
    {
     "name": "stdout",
     "output_type": "stream",
     "text": [
      "80/80 [==============================] - 1s 6ms/step - loss: 0.6352 - accuracy: 0.6419\n",
      "Test Loss: 0.6351710557937622\n",
      "Test Accuracy: 0.6419077515602112\n"
     ]
    }
   ],
   "source": [
    "#evaluate DNN model\n",
    "loss, accuracy = model.evaluate(X_test, y_test)\n",
    "print(\"Test Loss:\", loss)\n",
    "print(\"Test Accuracy:\", accuracy)"
   ]
  },
  {
   "cell_type": "code",
   "execution_count": 71,
   "id": "a824be1a",
   "metadata": {},
   "outputs": [
    {
     "name": "stdout",
     "output_type": "stream",
     "text": [
      "80/80 [==============================] - 0s 3ms/step\n",
      "Precision: 0.6041939711664482\n",
      "Recall: 0.4288372093023256\n",
      "F1-Score: 0.5016322089227421\n"
     ]
    }
   ],
   "source": [
    "dnn_pred = model.predict(X_test)\n",
    "dnn_pred_binary = np.round(dnn_pred)\n",
    "\n",
    "#calculate and print DNN metrics\n",
    "dnn_precision = precision_score(y_test, dnn_pred_binary)\n",
    "dnn_recall = recall_score(y_test, dnn_pred_binary)\n",
    "dnn_f1 = f1_score(y_test, dnn_pred_binary)\n",
    "\n",
    "print(\"Precision:\", dnn_precision)\n",
    "print(\"Recall:\", dnn_recall)\n",
    "print(\"F1-Score:\", dnn_f1)"
   ]
  },
  {
   "cell_type": "code",
   "execution_count": 72,
   "id": "d90586b9",
   "metadata": {},
   "outputs": [],
   "source": [
    "#plot training cycles to ensure model is not overfitted \n",
    "model_history_dict = model_history.history\n",
    "model_loss_values = model_history_dict['loss']\n",
    "model_val_loss_values = model_history_dict['val_loss']\n",
    "\n",
    "model_epoch = range(1,len(model_history_dict['accuracy'])+1)"
   ]
  },
  {
   "cell_type": "code",
   "execution_count": 73,
   "id": "fb5cb81c",
   "metadata": {
    "scrolled": true
   },
   "outputs": [
    {
     "data": {
      "text/plain": [
       "<matplotlib.legend.Legend at 0x35cb6ea00>"
      ]
     },
     "execution_count": 73,
     "metadata": {},
     "output_type": "execute_result"
    },
    {
     "data": {
      "image/png": "[encoded data removed]",
      "text/plain": [
       "<Figure size 432x288 with 1 Axes>"
      ]
     },
     "metadata": {
      "needs_background": "light"
     },
     "output_type": "display_data"
    }
   ],
   "source": [
    "plt.plot(model_epoch,model_loss_values,'bo',label='Training loss')\n",
    "plt.plot(model_epoch,model_val_loss_values,'b',label='Validation loss')\n",
    "plt.title('Training and validation loss')\n",
    "plt.xlabel('Epochs')\n",
    "plt.ylabel('Loss')\n",
    "plt.legend()"
   ]
  },
  {
   "cell_type": "markdown",
   "id": "4af9b345",
   "metadata": {},
   "source": [
    "# Semi Unsupervised Fake News Detection"
   ]
  },
  {
   "cell_type": "code",
   "execution_count": 107,
   "id": "9d9f1eec",
   "metadata": {},
   "outputs": [],
   "source": [
    "#import required libraries\n",
    "from sklearn.decomposition import TruncatedSVD\n",
    "from sklearn.cluster import KMeans\n",
    "from mpl_toolkits.mplot3d import Axes3D\n",
    "from sklearn.metrics import silhouette_score"
   ]
  },
  {
   "cell_type": "code",
   "execution_count": 79,
   "id": "d1f0b40a",
   "metadata": {
    "scrolled": true
   },
   "outputs": [],
   "source": [
    "#import dataset and assign to dataframes\n",
    "df_real = pd.read_csv(\"./datasets/True.csv\")\n",
    "df_fake = pd.read_csv(\"./datasets/Fake.csv\")"
   ]
  },
  {
   "cell_type": "code",
   "execution_count": 80,
   "id": "644efe6b",
   "metadata": {},
   "outputs": [
    {
     "data": {
      "text/html": [
       "<div>\n",
       "<style scoped>\n",
       "    .dataframe tbody tr th:only-of-type {\n",
       "        vertical-align: middle;\n",
       "    }\n",
       "\n",
       "    .dataframe tbody tr th {\n",
       "        vertical-align: top;\n",
       "    }\n",
       "\n",
       "    .dataframe thead th {\n",
       "        text-align: right;\n",
       "    }\n",
       "</style>\n",
       "<table border=\"1\" class=\"dataframe\">\n",
       "  <thead>\n",
       "    <tr style=\"text-align: right;\">\n",
       "      <th></th>\n",
       "      <th>title</th>\n",
       "    </tr>\n",
       "  </thead>\n",
       "  <tbody>\n",
       "    <tr>\n",
       "      <th>0</th>\n",
       "      <td>As U.S. budget fight looms, Republicans flip t...</td>\n",
       "    </tr>\n",
       "    <tr>\n",
       "      <th>1</th>\n",
       "      <td>U.S. military to accept transgender recruits o...</td>\n",
       "    </tr>\n",
       "    <tr>\n",
       "      <th>2</th>\n",
       "      <td>Senior U.S. Republican senator: 'Let Mr. Muell...</td>\n",
       "    </tr>\n",
       "    <tr>\n",
       "      <th>3</th>\n",
       "      <td>FBI Russia probe helped by Australian diplomat...</td>\n",
       "    </tr>\n",
       "    <tr>\n",
       "      <th>4</th>\n",
       "      <td>Trump wants Postal Service to charge 'much mor...</td>\n",
       "    </tr>\n",
       "  </tbody>\n",
       "</table>\n",
       "</div>"
      ],
      "text/plain": [
       "                                               title\n",
       "0  As U.S. budget fight looms, Republicans flip t...\n",
       "1  U.S. military to accept transgender recruits o...\n",
       "2  Senior U.S. Republican senator: 'Let Mr. Muell...\n",
       "3  FBI Russia probe helped by Australian diplomat...\n",
       "4  Trump wants Postal Service to charge 'much mor..."
      ]
     },
     "execution_count": 80,
     "metadata": {},
     "output_type": "execute_result"
    }
   ],
   "source": [
    "#drop unnecessary columns, we only focus on the headlines. \n",
    "df_real = df_real.drop([\"text\",\"subject\", \"date\"], axis=1)\n",
    "df_real.head(5)"
   ]
  },
  {
   "cell_type": "code",
   "execution_count": 81,
   "id": "688a2cd9",
   "metadata": {},
   "outputs": [
    {
     "data": {
      "text/html": [
       "<div>\n",
       "<style scoped>\n",
       "    .dataframe tbody tr th:only-of-type {\n",
       "        vertical-align: middle;\n",
       "    }\n",
       "\n",
       "    .dataframe tbody tr th {\n",
       "        vertical-align: top;\n",
       "    }\n",
       "\n",
       "    .dataframe thead th {\n",
       "        text-align: right;\n",
       "    }\n",
       "</style>\n",
       "<table border=\"1\" class=\"dataframe\">\n",
       "  <thead>\n",
       "    <tr style=\"text-align: right;\">\n",
       "      <th></th>\n",
       "      <th>title</th>\n",
       "    </tr>\n",
       "  </thead>\n",
       "  <tbody>\n",
       "    <tr>\n",
       "      <th>0</th>\n",
       "      <td>Donald Trump Sends Out Embarrassing New Year’...</td>\n",
       "    </tr>\n",
       "    <tr>\n",
       "      <th>1</th>\n",
       "      <td>Drunk Bragging Trump Staffer Started Russian ...</td>\n",
       "    </tr>\n",
       "    <tr>\n",
       "      <th>2</th>\n",
       "      <td>Sheriff David Clarke Becomes An Internet Joke...</td>\n",
       "    </tr>\n",
       "    <tr>\n",
       "      <th>3</th>\n",
       "      <td>Trump Is So Obsessed He Even Has Obama’s Name...</td>\n",
       "    </tr>\n",
       "    <tr>\n",
       "      <th>4</th>\n",
       "      <td>Pope Francis Just Called Out Donald Trump Dur...</td>\n",
       "    </tr>\n",
       "  </tbody>\n",
       "</table>\n",
       "</div>"
      ],
      "text/plain": [
       "                                               title\n",
       "0   Donald Trump Sends Out Embarrassing New Year’...\n",
       "1   Drunk Bragging Trump Staffer Started Russian ...\n",
       "2   Sheriff David Clarke Becomes An Internet Joke...\n",
       "3   Trump Is So Obsessed He Even Has Obama’s Name...\n",
       "4   Pope Francis Just Called Out Donald Trump Dur..."
      ]
     },
     "execution_count": 81,
     "metadata": {},
     "output_type": "execute_result"
    }
   ],
   "source": [
    "df_fake = df_fake.drop([\"text\",\"subject\", \"date\"], axis=1)\n",
    "df_fake.head(5)"
   ]
  },
  {
   "cell_type": "code",
   "execution_count": 82,
   "id": "96bf2a03",
   "metadata": {},
   "outputs": [
    {
     "data": {
      "text/html": [
       "<div>\n",
       "<style scoped>\n",
       "    .dataframe tbody tr th:only-of-type {\n",
       "        vertical-align: middle;\n",
       "    }\n",
       "\n",
       "    .dataframe tbody tr th {\n",
       "        vertical-align: top;\n",
       "    }\n",
       "\n",
       "    .dataframe thead th {\n",
       "        text-align: right;\n",
       "    }\n",
       "</style>\n",
       "<table border=\"1\" class=\"dataframe\">\n",
       "  <thead>\n",
       "    <tr style=\"text-align: right;\">\n",
       "      <th></th>\n",
       "      <th>title</th>\n",
       "    </tr>\n",
       "  </thead>\n",
       "  <tbody>\n",
       "    <tr>\n",
       "      <th>0</th>\n",
       "      <td>As U.S. budget fight looms, Republicans flip t...</td>\n",
       "    </tr>\n",
       "    <tr>\n",
       "      <th>1</th>\n",
       "      <td>U.S. military to accept transgender recruits o...</td>\n",
       "    </tr>\n",
       "    <tr>\n",
       "      <th>2</th>\n",
       "      <td>Senior U.S. Republican senator: 'Let Mr. Muell...</td>\n",
       "    </tr>\n",
       "    <tr>\n",
       "      <th>3</th>\n",
       "      <td>FBI Russia probe helped by Australian diplomat...</td>\n",
       "    </tr>\n",
       "    <tr>\n",
       "      <th>4</th>\n",
       "      <td>Trump wants Postal Service to charge 'much mor...</td>\n",
       "    </tr>\n",
       "    <tr>\n",
       "      <th>...</th>\n",
       "      <td>...</td>\n",
       "    </tr>\n",
       "    <tr>\n",
       "      <th>21412</th>\n",
       "      <td>'Fully committed' NATO backs new U.S. approach...</td>\n",
       "    </tr>\n",
       "    <tr>\n",
       "      <th>21413</th>\n",
       "      <td>LexisNexis withdrew two products from Chinese ...</td>\n",
       "    </tr>\n",
       "    <tr>\n",
       "      <th>21414</th>\n",
       "      <td>Minsk cultural hub becomes haven from authorities</td>\n",
       "    </tr>\n",
       "    <tr>\n",
       "      <th>21415</th>\n",
       "      <td>Vatican upbeat on possibility of Pope Francis ...</td>\n",
       "    </tr>\n",
       "    <tr>\n",
       "      <th>21416</th>\n",
       "      <td>Indonesia to buy $1.14 billion worth of Russia...</td>\n",
       "    </tr>\n",
       "  </tbody>\n",
       "</table>\n",
       "<p>21417 rows × 1 columns</p>\n",
       "</div>"
      ],
      "text/plain": [
       "                                                   title\n",
       "0      As U.S. budget fight looms, Republicans flip t...\n",
       "1      U.S. military to accept transgender recruits o...\n",
       "2      Senior U.S. Republican senator: 'Let Mr. Muell...\n",
       "3      FBI Russia probe helped by Australian diplomat...\n",
       "4      Trump wants Postal Service to charge 'much mor...\n",
       "...                                                  ...\n",
       "21412  'Fully committed' NATO backs new U.S. approach...\n",
       "21413  LexisNexis withdrew two products from Chinese ...\n",
       "21414  Minsk cultural hub becomes haven from authorities\n",
       "21415  Vatican upbeat on possibility of Pope Francis ...\n",
       "21416  Indonesia to buy $1.14 billion worth of Russia...\n",
       "\n",
       "[21417 rows x 1 columns]"
      ]
     },
     "execution_count": 82,
     "metadata": {},
     "output_type": "execute_result"
    }
   ],
   "source": [
    "df_real"
   ]
  },
  {
   "cell_type": "code",
   "execution_count": 83,
   "id": "e3791a1c",
   "metadata": {},
   "outputs": [],
   "source": [
    "test_real = df_real.iloc[:10]\n",
    "test_fake = df_fake.iloc[:10]\n",
    "\n",
    "#get first 10 rows of real and fake to form test set \n",
    "test_real.to_csv('./datasets/test_real.csv', index=False)\n",
    "test_fake.to_csv('./datasets/test_fake.csv', index=False)\n",
    "\n",
    "#remove first 10 rows of both real and fake\n",
    "df_real = df_real.drop(index=df_real.index[:10])\n",
    "df_fake = df_fake.drop(index=df_fake.index[:10])"
   ]
  },
  {
   "cell_type": "code",
   "execution_count": 84,
   "id": "b3ce8175",
   "metadata": {},
   "outputs": [
    {
     "data": {
      "text/html": [
       "<div>\n",
       "<style scoped>\n",
       "    .dataframe tbody tr th:only-of-type {\n",
       "        vertical-align: middle;\n",
       "    }\n",
       "\n",
       "    .dataframe tbody tr th {\n",
       "        vertical-align: top;\n",
       "    }\n",
       "\n",
       "    .dataframe thead th {\n",
       "        text-align: right;\n",
       "    }\n",
       "</style>\n",
       "<table border=\"1\" class=\"dataframe\">\n",
       "  <thead>\n",
       "    <tr style=\"text-align: right;\">\n",
       "      <th></th>\n",
       "      <th>title</th>\n",
       "    </tr>\n",
       "  </thead>\n",
       "  <tbody>\n",
       "    <tr>\n",
       "      <th>10</th>\n",
       "      <td>Jones certified U.S. Senate winner despite Moo...</td>\n",
       "    </tr>\n",
       "    <tr>\n",
       "      <th>11</th>\n",
       "      <td>New York governor questions the constitutional...</td>\n",
       "    </tr>\n",
       "    <tr>\n",
       "      <th>12</th>\n",
       "      <td>Factbox: Trump on Twitter (Dec 28) - Vanity Fa...</td>\n",
       "    </tr>\n",
       "    <tr>\n",
       "      <th>13</th>\n",
       "      <td>Trump on Twitter (Dec 27) - Trump, Iraq, Syria</td>\n",
       "    </tr>\n",
       "    <tr>\n",
       "      <th>14</th>\n",
       "      <td>Man says he delivered manure to Mnuchin to pro...</td>\n",
       "    </tr>\n",
       "    <tr>\n",
       "      <th>15</th>\n",
       "      <td>Virginia officials postpone lottery drawing to...</td>\n",
       "    </tr>\n",
       "    <tr>\n",
       "      <th>16</th>\n",
       "      <td>U.S. lawmakers question businessman at 2016 Tr...</td>\n",
       "    </tr>\n",
       "    <tr>\n",
       "      <th>17</th>\n",
       "      <td>Trump on Twitter (Dec 26) - Hillary Clinton, T...</td>\n",
       "    </tr>\n",
       "    <tr>\n",
       "      <th>18</th>\n",
       "      <td>U.S. appeals court rejects challenge to Trump ...</td>\n",
       "    </tr>\n",
       "    <tr>\n",
       "      <th>19</th>\n",
       "      <td>Treasury Secretary Mnuchin was sent gift-wrapp...</td>\n",
       "    </tr>\n",
       "  </tbody>\n",
       "</table>\n",
       "</div>"
      ],
      "text/plain": [
       "                                                title\n",
       "10  Jones certified U.S. Senate winner despite Moo...\n",
       "11  New York governor questions the constitutional...\n",
       "12  Factbox: Trump on Twitter (Dec 28) - Vanity Fa...\n",
       "13     Trump on Twitter (Dec 27) - Trump, Iraq, Syria\n",
       "14  Man says he delivered manure to Mnuchin to pro...\n",
       "15  Virginia officials postpone lottery drawing to...\n",
       "16  U.S. lawmakers question businessman at 2016 Tr...\n",
       "17  Trump on Twitter (Dec 26) - Hillary Clinton, T...\n",
       "18  U.S. appeals court rejects challenge to Trump ...\n",
       "19  Treasury Secretary Mnuchin was sent gift-wrapp..."
      ]
     },
     "execution_count": 84,
     "metadata": {},
     "output_type": "execute_result"
    }
   ],
   "source": [
    "#combine dataset. Unlike the prototype, we do not add labels \n",
    "news = pd.concat([df_real, df_fake], axis =0)\n",
    "news.head(10)"
   ]
  },
  {
   "cell_type": "code",
   "execution_count": 85,
   "id": "7a00e96e",
   "metadata": {},
   "outputs": [],
   "source": [
    "#process text using previously implemented regex function\n",
    "news['title'] = news['title'].apply(textProcessing)"
   ]
  },
  {
   "cell_type": "code",
   "execution_count": 86,
   "id": "32207774",
   "metadata": {},
   "outputs": [],
   "source": [
    "#remove stop words\n",
    "news['title'] = news['title'].apply(lambda x: ' '.join([word for word in x.split() if word not in (stop)]))"
   ]
  },
  {
   "cell_type": "code",
   "execution_count": 87,
   "id": "fa54e2e6",
   "metadata": {},
   "outputs": [
    {
     "data": {
      "text/html": [
       "<div>\n",
       "<style scoped>\n",
       "    .dataframe tbody tr th:only-of-type {\n",
       "        vertical-align: middle;\n",
       "    }\n",
       "\n",
       "    .dataframe tbody tr th {\n",
       "        vertical-align: top;\n",
       "    }\n",
       "\n",
       "    .dataframe thead th {\n",
       "        text-align: right;\n",
       "    }\n",
       "</style>\n",
       "<table border=\"1\" class=\"dataframe\">\n",
       "  <thead>\n",
       "    <tr style=\"text-align: right;\">\n",
       "      <th></th>\n",
       "      <th>title</th>\n",
       "    </tr>\n",
       "  </thead>\n",
       "  <tbody>\n",
       "    <tr>\n",
       "      <th>10</th>\n",
       "      <td>jones certified u senate winner despite moore ...</td>\n",
       "    </tr>\n",
       "    <tr>\n",
       "      <th>11</th>\n",
       "      <td>new york governor questions constitutionality ...</td>\n",
       "    </tr>\n",
       "    <tr>\n",
       "      <th>12</th>\n",
       "      <td>factbox trump twitter dec vanity fair hillary ...</td>\n",
       "    </tr>\n",
       "    <tr>\n",
       "      <th>13</th>\n",
       "      <td>trump twitter dec trump iraq syria</td>\n",
       "    </tr>\n",
       "    <tr>\n",
       "      <th>14</th>\n",
       "      <td>man says delivered manure mnuchin protest new ...</td>\n",
       "    </tr>\n",
       "    <tr>\n",
       "      <th>15</th>\n",
       "      <td>virginia officials postpone lottery drawing de...</td>\n",
       "    </tr>\n",
       "    <tr>\n",
       "      <th>16</th>\n",
       "      <td>u lawmakers question businessman trump tower m...</td>\n",
       "    </tr>\n",
       "    <tr>\n",
       "      <th>17</th>\n",
       "      <td>trump twitter dec hillary clinton tax cut bill</td>\n",
       "    </tr>\n",
       "    <tr>\n",
       "      <th>18</th>\n",
       "      <td>u appeals court rejects challenge trump voter ...</td>\n",
       "    </tr>\n",
       "    <tr>\n",
       "      <th>19</th>\n",
       "      <td>treasury secretary mnuchin sent gift wrapped b...</td>\n",
       "    </tr>\n",
       "  </tbody>\n",
       "</table>\n",
       "</div>"
      ],
      "text/plain": [
       "                                                title\n",
       "10  jones certified u senate winner despite moore ...\n",
       "11  new york governor questions constitutionality ...\n",
       "12  factbox trump twitter dec vanity fair hillary ...\n",
       "13                 trump twitter dec trump iraq syria\n",
       "14  man says delivered manure mnuchin protest new ...\n",
       "15  virginia officials postpone lottery drawing de...\n",
       "16  u lawmakers question businessman trump tower m...\n",
       "17     trump twitter dec hillary clinton tax cut bill\n",
       "18  u appeals court rejects challenge trump voter ...\n",
       "19  treasury secretary mnuchin sent gift wrapped b..."
      ]
     },
     "execution_count": 87,
     "metadata": {},
     "output_type": "execute_result"
    }
   ],
   "source": [
    "news.head(10)"
   ]
  },
  {
   "cell_type": "code",
   "execution_count": 88,
   "id": "166586d4",
   "metadata": {},
   "outputs": [],
   "source": [
    "#vectorize headlines\n",
    "news_tfidf = vectorize.fit_transform(news['title'])"
   ]
  },
  {
   "cell_type": "code",
   "execution_count": 89,
   "id": "5270a72f",
   "metadata": {},
   "outputs": [],
   "source": [
    "#reduce number of features \n",
    "tsvd = TruncatedSVD(n_components=3)\n",
    "reduced_data = tsvd.fit_transform(news_tfidf)"
   ]
  },
  {
   "cell_type": "code",
   "execution_count": 90,
   "id": "7be504bb",
   "metadata": {},
   "outputs": [
    {
     "name": "stderr",
     "output_type": "stream",
     "text": [
      "/Users/isaacjieu/miniforge3/envs/fakeNewsDetection/lib/python3.8/site-packages/sklearn/cluster/_kmeans.py:1412: FutureWarning: The default value of `n_init` will change from 10 to 'auto' in 1.4. Set the value of `n_init` explicitly to suppress the warning\n",
      "  super()._check_params_vs_input(X, default_n_init=10)\n"
     ]
    }
   ],
   "source": [
    "#implemtation of k-means clustering\n",
    "num_clusters = 2 \n",
    "kmeans = KMeans(n_clusters=num_clusters, random_state=42)\n",
    "clusters = kmeans.fit_predict(reduced_data)\n",
    "centroids = kmeans.cluster_centers_"
   ]
  },
  {
   "cell_type": "code",
   "execution_count": 91,
   "id": "62e356f4",
   "metadata": {},
   "outputs": [
    {
     "data": {
      "image/png": "[encoded data removed]",
      "text/plain": [
       "<Figure size 720x576 with 1 Axes>"
      ]
     },
     "metadata": {
      "needs_background": "light"
     },
     "output_type": "display_data"
    }
   ],
   "source": [
    "#create 3D scatter plot of the reduced vectorized data, colored by cluster assignment\n",
    "fig = plt.figure(figsize=(10, 8))\n",
    "ax = fig.add_subplot(111, projection='3d')\n",
    "\n",
    "scatter = ax.scatter(reduced_data[:, 0], reduced_data[:, 1], reduced_data[:, 2], c=clusters, cmap='viridis')\n",
    "ax.set_title('Clustering of News Articles')\n",
    "ax.set_xlabel('tf-idf 1')\n",
    "ax.set_ylabel('tf-idf 2')\n",
    "ax.set_zlabel('tf-idf 3')\n",
    "\n",
    "handles, labels = scatter.legend_elements()\n",
    "legend = ax.legend(handles, labels, loc=\"upper right\", title=\"Clusters\")\n",
    "ax.add_artist(legend)\n",
    "\n",
    "plt.show()"
   ]
  },
  {
   "cell_type": "code",
   "execution_count": 92,
   "id": "5ca46c06",
   "metadata": {},
   "outputs": [],
   "source": [
    "#compute silhouette score\n",
    "silhouette_avg = silhouette_score(reduced_data, clusters)"
   ]
  },
  {
   "cell_type": "code",
   "execution_count": 93,
   "id": "0750c60e",
   "metadata": {},
   "outputs": [
    {
     "data": {
      "text/plain": [
       "0.6378933054775805"
      ]
     },
     "execution_count": 93,
     "metadata": {},
     "output_type": "execute_result"
    }
   ],
   "source": [
    "silhouette_avg"
   ]
  },
  {
   "cell_type": "code",
   "execution_count": 94,
   "id": "dd408a1d",
   "metadata": {},
   "outputs": [],
   "source": [
    "#import 'labelled' test data\n",
    "df_test_real = pd.read_csv(\"./datasets/test_real.csv\")\n",
    "df_test_fake = pd.read_csv(\"./datasets/test_fake.csv\")"
   ]
  },
  {
   "cell_type": "code",
   "execution_count": 95,
   "id": "eff53f64",
   "metadata": {},
   "outputs": [
    {
     "data": {
      "text/html": [
       "<div>\n",
       "<style scoped>\n",
       "    .dataframe tbody tr th:only-of-type {\n",
       "        vertical-align: middle;\n",
       "    }\n",
       "\n",
       "    .dataframe tbody tr th {\n",
       "        vertical-align: top;\n",
       "    }\n",
       "\n",
       "    .dataframe thead th {\n",
       "        text-align: right;\n",
       "    }\n",
       "</style>\n",
       "<table border=\"1\" class=\"dataframe\">\n",
       "  <thead>\n",
       "    <tr style=\"text-align: right;\">\n",
       "      <th></th>\n",
       "      <th>title</th>\n",
       "    </tr>\n",
       "  </thead>\n",
       "  <tbody>\n",
       "    <tr>\n",
       "      <th>0</th>\n",
       "      <td>As U.S. budget fight looms, Republicans flip t...</td>\n",
       "    </tr>\n",
       "    <tr>\n",
       "      <th>1</th>\n",
       "      <td>U.S. military to accept transgender recruits o...</td>\n",
       "    </tr>\n",
       "    <tr>\n",
       "      <th>2</th>\n",
       "      <td>Senior U.S. Republican senator: 'Let Mr. Muell...</td>\n",
       "    </tr>\n",
       "    <tr>\n",
       "      <th>3</th>\n",
       "      <td>FBI Russia probe helped by Australian diplomat...</td>\n",
       "    </tr>\n",
       "    <tr>\n",
       "      <th>4</th>\n",
       "      <td>Trump wants Postal Service to charge 'much mor...</td>\n",
       "    </tr>\n",
       "    <tr>\n",
       "      <th>5</th>\n",
       "      <td>White House, Congress prepare for talks on spe...</td>\n",
       "    </tr>\n",
       "    <tr>\n",
       "      <th>6</th>\n",
       "      <td>Trump says Russia probe will be fair, but time...</td>\n",
       "    </tr>\n",
       "    <tr>\n",
       "      <th>7</th>\n",
       "      <td>Factbox: Trump on Twitter (Dec 29) - Approval ...</td>\n",
       "    </tr>\n",
       "    <tr>\n",
       "      <th>8</th>\n",
       "      <td>Trump on Twitter (Dec 28) - Global Warming</td>\n",
       "    </tr>\n",
       "    <tr>\n",
       "      <th>9</th>\n",
       "      <td>Alabama official to certify Senator-elect Jone...</td>\n",
       "    </tr>\n",
       "  </tbody>\n",
       "</table>\n",
       "</div>"
      ],
      "text/plain": [
       "                                               title\n",
       "0  As U.S. budget fight looms, Republicans flip t...\n",
       "1  U.S. military to accept transgender recruits o...\n",
       "2  Senior U.S. Republican senator: 'Let Mr. Muell...\n",
       "3  FBI Russia probe helped by Australian diplomat...\n",
       "4  Trump wants Postal Service to charge 'much mor...\n",
       "5  White House, Congress prepare for talks on spe...\n",
       "6  Trump says Russia probe will be fair, but time...\n",
       "7  Factbox: Trump on Twitter (Dec 29) - Approval ...\n",
       "8         Trump on Twitter (Dec 28) - Global Warming\n",
       "9  Alabama official to certify Senator-elect Jone..."
      ]
     },
     "execution_count": 95,
     "metadata": {},
     "output_type": "execute_result"
    }
   ],
   "source": [
    "df_test_real"
   ]
  },
  {
   "cell_type": "code",
   "execution_count": 96,
   "id": "b91a0ccb",
   "metadata": {},
   "outputs": [
    {
     "data": {
      "text/html": [
       "<div>\n",
       "<style scoped>\n",
       "    .dataframe tbody tr th:only-of-type {\n",
       "        vertical-align: middle;\n",
       "    }\n",
       "\n",
       "    .dataframe tbody tr th {\n",
       "        vertical-align: top;\n",
       "    }\n",
       "\n",
       "    .dataframe thead th {\n",
       "        text-align: right;\n",
       "    }\n",
       "</style>\n",
       "<table border=\"1\" class=\"dataframe\">\n",
       "  <thead>\n",
       "    <tr style=\"text-align: right;\">\n",
       "      <th></th>\n",
       "      <th>title</th>\n",
       "    </tr>\n",
       "  </thead>\n",
       "  <tbody>\n",
       "    <tr>\n",
       "      <th>0</th>\n",
       "      <td>Donald Trump Sends Out Embarrassing New Year’...</td>\n",
       "    </tr>\n",
       "    <tr>\n",
       "      <th>1</th>\n",
       "      <td>Drunk Bragging Trump Staffer Started Russian ...</td>\n",
       "    </tr>\n",
       "    <tr>\n",
       "      <th>2</th>\n",
       "      <td>Sheriff David Clarke Becomes An Internet Joke...</td>\n",
       "    </tr>\n",
       "    <tr>\n",
       "      <th>3</th>\n",
       "      <td>Trump Is So Obsessed He Even Has Obama’s Name...</td>\n",
       "    </tr>\n",
       "    <tr>\n",
       "      <th>4</th>\n",
       "      <td>Pope Francis Just Called Out Donald Trump Dur...</td>\n",
       "    </tr>\n",
       "    <tr>\n",
       "      <th>5</th>\n",
       "      <td>Racist Alabama Cops Brutalize Black Boy While...</td>\n",
       "    </tr>\n",
       "    <tr>\n",
       "      <th>6</th>\n",
       "      <td>Fresh Off The Golf Course, Trump Lashes Out A...</td>\n",
       "    </tr>\n",
       "    <tr>\n",
       "      <th>7</th>\n",
       "      <td>Trump Said Some INSANELY Racist Stuff Inside ...</td>\n",
       "    </tr>\n",
       "    <tr>\n",
       "      <th>8</th>\n",
       "      <td>Former CIA Director Slams Trump Over UN Bully...</td>\n",
       "    </tr>\n",
       "    <tr>\n",
       "      <th>9</th>\n",
       "      <td>WATCH: Brand-New Pro-Trump Ad Features So Muc...</td>\n",
       "    </tr>\n",
       "  </tbody>\n",
       "</table>\n",
       "</div>"
      ],
      "text/plain": [
       "                                               title\n",
       "0   Donald Trump Sends Out Embarrassing New Year’...\n",
       "1   Drunk Bragging Trump Staffer Started Russian ...\n",
       "2   Sheriff David Clarke Becomes An Internet Joke...\n",
       "3   Trump Is So Obsessed He Even Has Obama’s Name...\n",
       "4   Pope Francis Just Called Out Donald Trump Dur...\n",
       "5   Racist Alabama Cops Brutalize Black Boy While...\n",
       "6   Fresh Off The Golf Course, Trump Lashes Out A...\n",
       "7   Trump Said Some INSANELY Racist Stuff Inside ...\n",
       "8   Former CIA Director Slams Trump Over UN Bully...\n",
       "9   WATCH: Brand-New Pro-Trump Ad Features So Muc..."
      ]
     },
     "execution_count": 96,
     "metadata": {},
     "output_type": "execute_result"
    }
   ],
   "source": [
    "df_test_fake"
   ]
  },
  {
   "cell_type": "code",
   "execution_count": 97,
   "id": "970ec8df",
   "metadata": {},
   "outputs": [],
   "source": [
    "#prerocessing on test data\n",
    "df_test_real['title'] = df_test_real['title'].apply(textProcessing)\n",
    "df_test_fake['title'] = df_test_fake['title'].apply(textProcessing)\n",
    "\n",
    "df_test_real['title'] = df_test_real['title'].apply(lambda x: ' '.join([word for word in x.split() if word not in (stop)]))\n",
    "df_test_fake['title'] = df_test_fake['title'].apply(lambda x: ' '.join([word for word in x.split() if word not in (stop)]))"
   ]
  },
  {
   "cell_type": "code",
   "execution_count": 98,
   "id": "71023060",
   "metadata": {},
   "outputs": [
    {
     "data": {
      "text/html": [
       "<div>\n",
       "<style scoped>\n",
       "    .dataframe tbody tr th:only-of-type {\n",
       "        vertical-align: middle;\n",
       "    }\n",
       "\n",
       "    .dataframe tbody tr th {\n",
       "        vertical-align: top;\n",
       "    }\n",
       "\n",
       "    .dataframe thead th {\n",
       "        text-align: right;\n",
       "    }\n",
       "</style>\n",
       "<table border=\"1\" class=\"dataframe\">\n",
       "  <thead>\n",
       "    <tr style=\"text-align: right;\">\n",
       "      <th></th>\n",
       "      <th>title</th>\n",
       "    </tr>\n",
       "  </thead>\n",
       "  <tbody>\n",
       "    <tr>\n",
       "      <th>0</th>\n",
       "      <td>u budget fight looms republicans flip fiscal s...</td>\n",
       "    </tr>\n",
       "    <tr>\n",
       "      <th>1</th>\n",
       "      <td>u military accept transgender recruits monday ...</td>\n",
       "    </tr>\n",
       "    <tr>\n",
       "      <th>2</th>\n",
       "      <td>senior u republican senator let mr mueller job</td>\n",
       "    </tr>\n",
       "    <tr>\n",
       "      <th>3</th>\n",
       "      <td>fbi russia probe helped australian diplomat ti...</td>\n",
       "    </tr>\n",
       "    <tr>\n",
       "      <th>4</th>\n",
       "      <td>trump wants postal service charge much amazon ...</td>\n",
       "    </tr>\n",
       "    <tr>\n",
       "      <th>5</th>\n",
       "      <td>white house congress prepare talks spending im...</td>\n",
       "    </tr>\n",
       "    <tr>\n",
       "      <th>6</th>\n",
       "      <td>trump says russia probe fair timeline unclear nyt</td>\n",
       "    </tr>\n",
       "    <tr>\n",
       "      <th>7</th>\n",
       "      <td>factbox trump twitter dec approval rating amazon</td>\n",
       "    </tr>\n",
       "    <tr>\n",
       "      <th>8</th>\n",
       "      <td>trump twitter dec global warming</td>\n",
       "    </tr>\n",
       "    <tr>\n",
       "      <th>9</th>\n",
       "      <td>alabama official certify senator elect jones t...</td>\n",
       "    </tr>\n",
       "  </tbody>\n",
       "</table>\n",
       "</div>"
      ],
      "text/plain": [
       "                                               title\n",
       "0  u budget fight looms republicans flip fiscal s...\n",
       "1  u military accept transgender recruits monday ...\n",
       "2     senior u republican senator let mr mueller job\n",
       "3  fbi russia probe helped australian diplomat ti...\n",
       "4  trump wants postal service charge much amazon ...\n",
       "5  white house congress prepare talks spending im...\n",
       "6  trump says russia probe fair timeline unclear nyt\n",
       "7   factbox trump twitter dec approval rating amazon\n",
       "8                   trump twitter dec global warming\n",
       "9  alabama official certify senator elect jones t..."
      ]
     },
     "execution_count": 98,
     "metadata": {},
     "output_type": "execute_result"
    }
   ],
   "source": [
    "df_test_real"
   ]
  },
  {
   "cell_type": "code",
   "execution_count": 99,
   "id": "7b7f7626",
   "metadata": {},
   "outputs": [
    {
     "data": {
      "text/html": [
       "<div>\n",
       "<style scoped>\n",
       "    .dataframe tbody tr th:only-of-type {\n",
       "        vertical-align: middle;\n",
       "    }\n",
       "\n",
       "    .dataframe tbody tr th {\n",
       "        vertical-align: top;\n",
       "    }\n",
       "\n",
       "    .dataframe thead th {\n",
       "        text-align: right;\n",
       "    }\n",
       "</style>\n",
       "<table border=\"1\" class=\"dataframe\">\n",
       "  <thead>\n",
       "    <tr style=\"text-align: right;\">\n",
       "      <th></th>\n",
       "      <th>title</th>\n",
       "    </tr>\n",
       "  </thead>\n",
       "  <tbody>\n",
       "    <tr>\n",
       "      <th>0</th>\n",
       "      <td>donald trump sends embarrassing new year eve m...</td>\n",
       "    </tr>\n",
       "    <tr>\n",
       "      <th>1</th>\n",
       "      <td>drunk bragging trump staffer started russian c...</td>\n",
       "    </tr>\n",
       "    <tr>\n",
       "      <th>2</th>\n",
       "      <td>sheriff david clarke becomes internet joke thr...</td>\n",
       "    </tr>\n",
       "    <tr>\n",
       "      <th>3</th>\n",
       "      <td>trump obsessed even obama name coded website i...</td>\n",
       "    </tr>\n",
       "    <tr>\n",
       "      <th>4</th>\n",
       "      <td>pope francis called donald trump christmas speech</td>\n",
       "    </tr>\n",
       "    <tr>\n",
       "      <th>5</th>\n",
       "      <td>racist alabama cops brutalize black boy handcu...</td>\n",
       "    </tr>\n",
       "    <tr>\n",
       "      <th>6</th>\n",
       "      <td>fresh golf course trump lashes fbi deputy dire...</td>\n",
       "    </tr>\n",
       "    <tr>\n",
       "      <th>7</th>\n",
       "      <td>trump said insanely racist stuff inside oval o...</td>\n",
       "    </tr>\n",
       "    <tr>\n",
       "      <th>8</th>\n",
       "      <td>former cia director slams trump un bullying op...</td>\n",
       "    </tr>\n",
       "    <tr>\n",
       "      <th>9</th>\n",
       "      <td>watch brand new pro trump ad features much kis...</td>\n",
       "    </tr>\n",
       "  </tbody>\n",
       "</table>\n",
       "</div>"
      ],
      "text/plain": [
       "                                               title\n",
       "0  donald trump sends embarrassing new year eve m...\n",
       "1  drunk bragging trump staffer started russian c...\n",
       "2  sheriff david clarke becomes internet joke thr...\n",
       "3  trump obsessed even obama name coded website i...\n",
       "4  pope francis called donald trump christmas speech\n",
       "5  racist alabama cops brutalize black boy handcu...\n",
       "6  fresh golf course trump lashes fbi deputy dire...\n",
       "7  trump said insanely racist stuff inside oval o...\n",
       "8  former cia director slams trump un bullying op...\n",
       "9  watch brand new pro trump ad features much kis..."
      ]
     },
     "execution_count": 99,
     "metadata": {},
     "output_type": "execute_result"
    }
   ],
   "source": [
    "df_test_fake"
   ]
  },
  {
   "cell_type": "code",
   "execution_count": 100,
   "id": "89cd8e19",
   "metadata": {},
   "outputs": [],
   "source": [
    "#vectorise test data\n",
    "test_real_tfidf = vectorize.fit_transform(df_test_real['title'])\n",
    "test_fake_tfidf = vectorize.fit_transform(df_test_fake['title'])"
   ]
  },
  {
   "cell_type": "code",
   "execution_count": 101,
   "id": "66b46644",
   "metadata": {},
   "outputs": [
    {
     "data": {
      "text/plain": [
       "<10x63 sparse matrix of type '<class 'numpy.float64'>'\n",
       "\twith 73 stored elements in Compressed Sparse Row format>"
      ]
     },
     "execution_count": 101,
     "metadata": {},
     "output_type": "execute_result"
    }
   ],
   "source": [
    "test_real_tfidf"
   ]
  },
  {
   "cell_type": "code",
   "execution_count": 102,
   "id": "c3abda41",
   "metadata": {},
   "outputs": [
    {
     "data": {
      "text/plain": [
       "<10x83 sparse matrix of type '<class 'numpy.float64'>'\n",
       "\twith 95 stored elements in Compressed Sparse Row format>"
      ]
     },
     "execution_count": 102,
     "metadata": {},
     "output_type": "execute_result"
    }
   ],
   "source": [
    "test_fake_tfidf"
   ]
  },
  {
   "cell_type": "code",
   "execution_count": 103,
   "id": "cd999395",
   "metadata": {},
   "outputs": [],
   "source": [
    "#reduce number of features \n",
    "reduced_test_real = tsvd.fit_transform(test_real_tfidf)\n",
    "reduced_test_fake = tsvd.fit_transform(test_fake_tfidf)"
   ]
  },
  {
   "cell_type": "code",
   "execution_count": 104,
   "id": "e82dd3ac",
   "metadata": {},
   "outputs": [],
   "source": [
    "#cluster the test data\n",
    "cluster_real = kmeans.predict(reduced_test_real)\n",
    "cluster_fake = kmeans.predict(reduced_test_fake)"
   ]
  },
  {
   "cell_type": "code",
   "execution_count": 105,
   "id": "5231a159",
   "metadata": {},
   "outputs": [
    {
     "name": "stdout",
     "output_type": "stream",
     "text": [
      "Real data point 1 in cluster 1\n",
      "Real data point 2 in cluster 1\n",
      "Real data point 3 in cluster 0\n",
      "Real data point 4 in cluster 0\n",
      "Real data point 5 in cluster 1\n",
      "Real data point 6 in cluster 1\n",
      "Real data point 7 in cluster 0\n",
      "Real data point 8 in cluster 1\n",
      "Real data point 9 in cluster 1\n",
      "Real data point 10 in cluster 0\n"
     ]
    }
   ],
   "source": [
    "#test real dataset to see which cluster it falls into\n",
    "for i, cluster in enumerate(cluster_real):\n",
    "    print(f\"Real data point {i+1} in cluster {cluster}\")"
   ]
  },
  {
   "cell_type": "code",
   "execution_count": 106,
   "id": "14b5fd46",
   "metadata": {},
   "outputs": [
    {
     "name": "stdout",
     "output_type": "stream",
     "text": [
      "Fake data point 1 in cluster 1\n",
      "Fake data point 2 in cluster 0\n",
      "Fake data point 3 in cluster 1\n",
      "Fake data point 4 in cluster 0\n",
      "Fake data point 5 in cluster 1\n",
      "Fake data point 6 in cluster 0\n",
      "Fake data point 7 in cluster 0\n",
      "Fake data point 8 in cluster 0\n",
      "Fake data point 9 in cluster 0\n",
      "Fake data point 10 in cluster 1\n"
     ]
    }
   ],
   "source": [
    "#test fake dataset to see which cluster it falls into\n",
    "for i, cluster in enumerate(cluster_fake):\n",
    "    print(f\"Fake data point {i+1} in cluster {cluster}\")"
   ]
  }
 ],
 "metadata": {
  "kernelspec": {
   "display_name": "Python 3",
   "language": "python",
   "name": "python3"
  },
  "language_info": {
   "codemirror_mode": {
    "name": "ipython",
    "version": 3
   },
   "file_extension": ".py",
   "mimetype": "text/x-python",
   "name": "python",
   "nbconvert_exporter": "python",
   "pygments_lexer": "ipython3",
   "version": "3.8.17"
  }
 },
 "nbformat": 4,
 "nbformat_minor": 5
}
